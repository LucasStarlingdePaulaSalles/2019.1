{
 "cells": [
  {
   "cell_type": "code",
   "execution_count": 1,
   "metadata": {},
   "outputs": [],
   "source": [
    "# -*- coding: utf8\n",
    "\n",
    "import numpy as np\n",
    "import matplotlib.pyplot as plt\n",
    "import pandas as pd\n",
    "\n",
    "# Para evitar a confusão da aula passada, colocando alguns defaults!\n",
    "plt.rcParams['figure.figsize']  = (18, 10)\n",
    "plt.rcParams['axes.labelsize']  = 20\n",
    "plt.rcParams['axes.titlesize']  = 20\n",
    "plt.rcParams['legend.fontsize'] = 20\n",
    "plt.rcParams['xtick.labelsize'] = 20\n",
    "plt.rcParams['ytick.labelsize'] = 20\n",
    "plt.rcParams['lines.linewidth'] = 4"
   ]
  },
  {
   "cell_type": "code",
   "execution_count": 2,
   "metadata": {},
   "outputs": [],
   "source": [
    "plt.style.use('seaborn-colorblind')\n",
    "plt.ion()\n",
    "plt.rcParams['figure.figsize']  = (18, 10)"
   ]
  },
  {
   "cell_type": "markdown",
   "metadata": {},
   "source": [
    "# Aula06 - Estatística Básica\n",
    "\n",
    "**Material adaptado do Professor Pedro Olmo.**\n",
    "\n",
    "## Objetivos\n",
    "\n",
    "1. Entender como sumarizar dados.\n",
    "1. Relembrar tendências centrais de dados.\n",
    "1. Mais importante, entender as falácias de sumarização de dados.\n",
    "\n",
    "## Resultado Esperado\n",
    "\n",
    "1. Entendimento de médias, medianas, desvio padrão e quartis.\n",
    "1. Entendimento de propriedades das médias\n",
    "\n",
    "## Introdução\n",
    "\n",
    "As estatísticas referem-se à matemática e técnicas com as quais entendemos os dados. É um campo rico e enorme, mais adequado a uma prateleira (ou sala) em uma biblioteca do que a uma aula de um curso, e assim nossa discussão não será necessariamente profunda. Em vez disso, vamos tentar ensiná-lo apenas o suficiente para acompanhar as aulas seguintes e também para despertar o seu interesse para você sair e aprender mais.\n",
    "\n",
    "## Descrevendo um único conjunto de dados\n",
    "\n",
    "Através de uma combinação de boca-a-boca e sorte, a DataSciencester cresceu para dezenas de membros, e o vice-presidente de arrecadação de fundos pede-lhe uma descrição de quantos amigos cada membro pode incluir na lista de possíveis doadores.\n",
    "\n",
    "Usando técnicas das aulas anteriores, você pode facilmente produzir esses dados. Mas agora você se depara com o problema de como descrevê-los.\n",
    "\n",
    "Uma descrição óbvia de qualquer conjunto $x_1, x_2, ..., x_n$ de dados é simplesmente os dados em si:"
   ]
  },
  {
   "cell_type": "code",
   "execution_count": 3,
   "metadata": {},
   "outputs": [],
   "source": [
    "num_friends = [100, 49, 41, 40, 25,\n",
    "# ... and lots more\n",
    "]"
   ]
  },
  {
   "cell_type": "markdown",
   "metadata": {},
   "source": [
    "Para um conjunto de dados pequeno o suficiente, isso pode até ser a melhor descrição. Mas, para um conjunto de dados maior, isso é difícil e provavelmente opaco (imagine uma lista de 1 milhão de números). Por esse motivo, usamos estatísticas para destilar e comunicar características relevantes dos nossos dados.\n",
    "\n",
    "**Sempre visualize seus dados**. Como primeira abordagem, você coloca as contagens de amigos em um histograma."
   ]
  },
  {
   "cell_type": "code",
   "execution_count": 4,
   "metadata": {},
   "outputs": [
    {
     "data": {
      "text/plain": [
       "<matplotlib.text.Text at 0x10b77b1d0>"
      ]
     },
     "execution_count": 4,
     "metadata": {},
     "output_type": "execute_result"
    },
    {
     "data": {
      "image/png": "[encoded data removed]",
      "text/plain": [
       "<matplotlib.figure.Figure at 0x10b71efd0>"
      ]
     },
     "metadata": {
      "needs_background": "light"
     },
     "output_type": "display_data"
    }
   ],
   "source": [
    "num_friends = [100, 49, 41, 40, 25, 21, 21, 19, 19, 18, \n",
    "               18, 16, 15, 15, 15, 15, 14, 14, 13, 13,\n",
    "               13, 13, 12, 12, 11, 10, 10, 10, 10, 10,\n",
    "               10, 10, 10, 10, 10, 10, 10, 10, 10, 10,\n",
    "               9, 9, 9, 9, 9, 9, 9, 9, 9, 9, 9, 9, 9, 9,\n",
    "               9, 9, 9, 9, 8, 8, 8, 8, 8, 8, 8, 8, 8, 8,\n",
    "               8, 8, 8, 7, 7, 7, 7, 7, 7, 7, 7, 7, 7, 7,\n",
    "               7, 7, 7, 7, 6, 6, 6, 6, 6, 6, 6, 6, 6, 6, \n",
    "               6, 6, 6, 6, 6, 6, 6, 6, 6, 6, 6, 6, 5, 5,\n",
    "               5, 5, 5, 5, 5, 5, 5, 5, 5, 5, 5, 5, 5, 5,\n",
    "               5, 4, 4, 4, 4, 4, 4, 4, 4, 4, 4, 4, 4, 4, \n",
    "               4, 4, 4, 4, 4, 4, 4, 3, 3, 3, 3, 3, 3, 3,\n",
    "               3, 3, 3, 3, 3, 3, 3, 3, 3, 3, 3, 3, 3, 2,\n",
    "               2, 2, 2, 2, 2, 2, 2, 2, 2, 2, 2, 2, 2, 2,\n",
    "               2, 2, 1, 1, 1, 1, 1, 1, 1, 1, 1, 1, 1, 1,\n",
    "               1, 1, 1, 1, 1, 1, 1, 1, 1, 1]\n",
    "num_friends = np.array(num_friends)\n",
    "\n",
    "plt.hist(num_friends, bins=20)\n",
    "plt.title(\"Histograma da contagem de amigos\")\n",
    "plt.xlabel(\"# de amigos\")\n",
    "plt.ylabel(\"# de pessoas\")"
   ]
  },
  {
   "cell_type": "markdown",
   "metadata": {},
   "source": [
    "Infelizmente, este gráfico ainda é muito difícil de explicar em conversas informais. Então você pode começar a gerar algumas estatísticas. Provavelmente, a estatística mais simples é o número de pontos de dados:"
   ]
  },
  {
   "cell_type": "code",
   "execution_count": 5,
   "metadata": {},
   "outputs": [
    {
     "name": "stdout",
     "output_type": "stream",
     "text": [
      "numero de pontos: 204\n"
     ]
    }
   ],
   "source": [
    "num_points = len(num_friends)\n",
    "print(\"numero de pontos:\", num_points)"
   ]
  },
  {
   "cell_type": "markdown",
   "metadata": {},
   "source": [
    "Um vetor numpy tem diferentes atributos para pegar a dimensão."
   ]
  },
  {
   "cell_type": "code",
   "execution_count": 6,
   "metadata": {},
   "outputs": [
    {
     "data": {
      "text/plain": [
       "204"
      ]
     },
     "execution_count": 6,
     "metadata": {},
     "output_type": "execute_result"
    }
   ],
   "source": [
    "num_friends.size"
   ]
  },
  {
   "cell_type": "code",
   "execution_count": 7,
   "metadata": {},
   "outputs": [
    {
     "data": {
      "text/plain": [
       "(204,)"
      ]
     },
     "execution_count": 7,
     "metadata": {},
     "output_type": "execute_result"
    }
   ],
   "source": [
    "# Shape indica o tamanho para cada dimensão, em uma matriz teríamos dois valores.\n",
    "num_friends.shape "
   ]
  },
  {
   "cell_type": "markdown",
   "metadata": {},
   "source": [
    "Você provavelmente também está interessado no maior e menor valor:"
   ]
  },
  {
   "cell_type": "code",
   "execution_count": 8,
   "metadata": {},
   "outputs": [
    {
     "name": "stdout",
     "output_type": "stream",
     "text": [
      "maximo:  100 \n",
      "minimo:  1\n"
     ]
    }
   ],
   "source": [
    "largest_value = max(num_friends) \n",
    "smallest_value = min(num_friends)\n",
    "print(\"maximo: \", largest_value, \"\\nminimo: \", smallest_value)"
   ]
  },
  {
   "cell_type": "markdown",
   "metadata": {},
   "source": [
    "Ou, usando numpy"
   ]
  },
  {
   "cell_type": "code",
   "execution_count": 9,
   "metadata": {},
   "outputs": [
    {
     "data": {
      "text/plain": [
       "100"
      ]
     },
     "execution_count": 9,
     "metadata": {},
     "output_type": "execute_result"
    }
   ],
   "source": [
    "num_friends.max()"
   ]
  },
  {
   "cell_type": "code",
   "execution_count": 10,
   "metadata": {},
   "outputs": [
    {
     "data": {
      "text/plain": [
       "1"
      ]
     },
     "execution_count": 10,
     "metadata": {},
     "output_type": "execute_result"
    }
   ],
   "source": [
    "num_friends.min()"
   ]
  },
  {
   "cell_type": "code",
   "execution_count": 11,
   "metadata": {},
   "outputs": [
    {
     "data": {
      "text/plain": [
       "1"
      ]
     },
     "execution_count": 11,
     "metadata": {},
     "output_type": "execute_result"
    }
   ],
   "source": [
    "np.min(num_friends)"
   ]
  },
  {
   "cell_type": "markdown",
   "metadata": {},
   "source": [
    "Esses são apenas casos especiais quando queremos saber os valores em posições específicas:"
   ]
  },
  {
   "cell_type": "code",
   "execution_count": 12,
   "metadata": {},
   "outputs": [
    {
     "name": "stdout",
     "output_type": "stream",
     "text": [
      "menor valor:  1\n",
      "segundo menor valor:  1\n",
      "segundo maior valor:  49\n"
     ]
    }
   ],
   "source": [
    "sorted_values = np.sort(num_friends)\n",
    "smallest_value = sorted_values[0] \n",
    "second_smallest_value = sorted_values[1] \n",
    "second_largest_value = sorted_values[-2] \n",
    "print(\"menor valor: \", smallest_value)\n",
    "print(\"segundo menor valor: \", second_smallest_value)\n",
    "print(\"segundo maior valor: \", second_largest_value)"
   ]
  },
  {
   "cell_type": "markdown",
   "metadata": {},
   "source": [
    "# Tendências Centrais\n",
    "\n",
    "Normalmente, queremos saber onde nossos dados $x_1, x_2, ..., x_n$ estão centralizados. Normalmente, usamos a média $\\bar{x}$, que é apenas a soma dos dados dividida por sua contagem $n$:"
   ]
  },
  {
   "cell_type": "markdown",
   "metadata": {},
   "source": [
    "$${\\bar {x}}={\\frac {1}{n}}\\left(\\sum _{i=1}^{n}{x_{i}}\\right)={\\frac {x_{1}+x_{2}+\\cdots +x_{n}}{n}}$$ "
   ]
  },
  {
   "cell_type": "markdown",
   "metadata": {},
   "source": [
    "Um código simples para o cálculo da média seria:"
   ]
  },
  {
   "cell_type": "code",
   "execution_count": 13,
   "metadata": {},
   "outputs": [
    {
     "name": "stdout",
     "output_type": "stream",
     "text": [
      "media:  7.33333333333\n"
     ]
    }
   ],
   "source": [
    "def mean(x):\n",
    "    return sum(x) / len(x)\n",
    "\n",
    "print(\"media: \", mean(num_friends))\n",
    "# 7.333333"
   ]
  },
  {
   "cell_type": "markdown",
   "metadata": {},
   "source": [
    "Ou de forma equivalente, podemos usar x.mean() caso x seja um vetor `numpy`."
   ]
  },
  {
   "cell_type": "code",
   "execution_count": 14,
   "metadata": {},
   "outputs": [
    {
     "data": {
      "text/plain": [
       "7.333333333333333"
      ]
     },
     "execution_count": 14,
     "metadata": {},
     "output_type": "execute_result"
    }
   ],
   "source": [
    "num_friends.mean()"
   ]
  },
  {
   "cell_type": "markdown",
   "metadata": {},
   "source": [
    "Ou ainda"
   ]
  },
  {
   "cell_type": "code",
   "execution_count": 15,
   "metadata": {},
   "outputs": [
    {
     "data": {
      "text/plain": [
       "7.333333333333333"
      ]
     },
     "execution_count": 15,
     "metadata": {},
     "output_type": "execute_result"
    }
   ],
   "source": [
    "np.mean(num_friends)"
   ]
  },
  {
   "cell_type": "markdown",
   "metadata": {},
   "source": [
    "Se você tiver dois pontos de dados (ou *data points*), a média é simplesmente o ponto intermediário entre eles. À medida que você adiciona mais pontos, a média muda, mas sempre depende do valor de cada ponto.\n",
    "\n",
    "Às vezes, também estaremos interessados na mediana, que é o valor intermediário (se o número de pontos de dados for ímpar) ou a média dos dois valores intermediários (se o número de pontos de dados for par).\n",
    "\n",
    "Por exemplo, se temos cinco pontos de dados em um vetor ordenado `x`, a mediana é `x[5 // 2]`  ou `x[2]`. Se tivermos seis pontos de dados, calculamos a média entre `x[2]` (o terceiro ponto) e `x[3]` (o quarto ponto).\n",
    "\n",
    "Observe que, ao contrário da média, a mediana não depende de todos os valores dos seus dados. Por exemplo, se você tornar o maior ponto maior (ou o menor ponto menor), os pontos do meio permanecem inalterados, o que significa que a mediana também.\n",
    "\n",
    "A função mediana é um pouco mais complicada do que você poderia esperar, principalmente por causa do caso \"par\":"
   ]
  },
  {
   "cell_type": "code",
   "execution_count": 16,
   "metadata": {},
   "outputs": [],
   "source": [
    "def median(v):\n",
    "    \"\"\"encontra o valor mais intermediario de v\"\"\"\n",
    "    n = len(v)\n",
    "    sorted_v = list(sorted(v))\n",
    "    midpoint = n // 2 # // eh a divisao inteira\n",
    "    \n",
    "    if n % 2 == 1:\n",
    "        # se impar, retorna o valor do meio\n",
    "        return sorted_v[midpoint]\n",
    "    else:\n",
    "        # se par, retorna a media dos dois valores intermediarios\n",
    "        lo = midpoint - 1\n",
    "        hi = midpoint\n",
    "        return (sorted_v[lo] + sorted_v[hi]) / 2"
   ]
  },
  {
   "cell_type": "code",
   "execution_count": 17,
   "metadata": {},
   "outputs": [],
   "source": [
    "def median_v2(v):\n",
    "    n = len(v)\n",
    "    sorted_v = sorted(v)\n",
    "    return (sorted_v[math.floor((n-1)/2)] + sorted_v[math.ceil((n-1)/2)])/2"
   ]
  },
  {
   "cell_type": "code",
   "execution_count": 18,
   "metadata": {},
   "outputs": [
    {
     "name": "stdout",
     "output_type": "stream",
     "text": [
      "mediana de a =  2.5\n",
      "mediana de b =  7\n",
      "mediana da quantidade de amigos: 6.0\n"
     ]
    }
   ],
   "source": [
    "a = [1, 2, 3, 4]\n",
    "b = [5, 6, 7, 8, 9]\n",
    "print(\"mediana de a = \", median(a))\n",
    "print(\"mediana de b = \", median(b))\n",
    "\n",
    "print(\"mediana da quantidade de amigos:\", median(num_friends))"
   ]
  },
  {
   "cell_type": "markdown",
   "metadata": {},
   "source": [
    "Novamente, no âmbito da matéria é esperado que você entenda os códigos acima. Existem forma de encontrar medianas até mais rápido, usando o algoritmo quickselect. Na prática, podemos fazer uso do `median` do numpy."
   ]
  },
  {
   "cell_type": "code",
   "execution_count": 19,
   "metadata": {},
   "outputs": [
    {
     "data": {
      "text/plain": [
       "2.5"
      ]
     },
     "execution_count": 19,
     "metadata": {},
     "output_type": "execute_result"
    }
   ],
   "source": [
    "np.median(a)"
   ]
  },
  {
   "cell_type": "markdown",
   "metadata": {},
   "source": [
    "Claramente, a média é mais simples de calcular e varia suavemente conforme nossos dados são alterados. Se tivermos `n` pontos de dados e um deles aumentar em alguma quantidade pequena `e`, então necessariamente a média aumentará em `e/n`. (Isso torna a média passível de todo tipo de truque de cálculo.) No entanto, para encontrar a mediana, temos que ordenar nossos dados. E alterar um dos nossos pontos de dados em uma pequena quantidade `e` pode aumentar a mediana por `e`, por algum número menor que `e` ou não a modificar de qualquer forma (dependendo do resto dos dados).\n",
    "\n",
    "**Observação:** Existem, de fato, truques não óbvios para calcular eficientemente medianas sem ordenar os dados. No entanto, tais truques estão além do escopo deste curso, portanto, vamos ordernar os dados quando precisarmos calcular a mediana.\n",
    "\n",
    "Ao mesmo tempo, a média é muito sensível a valores discrepantes (*outliers*) em nossos dados. Se nosso usuário mais amigável tivesse 2000 amigos, a média subiria muito, enquanto a mediana permaneceria a mesma. Se os valores discrepantes forem, provavelmente, dados incorretos (ou, de outro modo, não representativos de qualquer fenômeno que estamos tentando entender), a média poderá, às vezes, nos fornecer uma imagem enganosa. Por exemplo, a história é frequentemente contada que em meados da década de 1980, a graduação da Universidade da Carolina do Norte com a maior média de salário inicial era a geografia. A razão disso? A estrela da NBA (e *outlier*) Michael Jordan formou-se em geografia."
   ]
  },
  {
   "cell_type": "markdown",
   "metadata": {},
   "source": [
    "Uma generalização da mediana é o quantil, que representa o menor valor maior que um certo percentual dos dados (A mediana representa o valor maior que 50% dos dados.)"
   ]
  },
  {
   "cell_type": "code",
   "execution_count": 20,
   "metadata": {},
   "outputs": [
    {
     "name": "stdout",
     "output_type": "stream",
     "text": [
      "quantil 10:  1\n",
      "quantil 25:  3\n",
      "quantil 75:  9\n",
      "quantil 90:  13\n"
     ]
    }
   ],
   "source": [
    "def quantile(x, p):\n",
    "    \"\"\"retorna o pth-percentil em x\"\"\"\n",
    "    p_index = int(p * len(x))\n",
    "    return sorted(x)[p_index]\n",
    "\n",
    "\n",
    "print(\"quantil 10: \", quantile(num_friends,0.10))\n",
    "print(\"quantil 25: \", quantile(num_friends,0.25))\n",
    "print(\"quantil 75: \", quantile(num_friends,0.75))\n",
    "print(\"quantil 90: \", quantile(num_friends,0.90))"
   ]
  },
  {
   "cell_type": "markdown",
   "metadata": {},
   "source": [
    "Outra medida para tendência central dos dados é a moda, que é(são) o(s) valor(es) mais comum(ns):"
   ]
  },
  {
   "cell_type": "code",
   "execution_count": 21,
   "metadata": {},
   "outputs": [],
   "source": [
    "def mode(x):\n",
    "    \"\"\"retorna uma lista, pois os dados podem ter mais de uma moda\"\"\"\n",
    "    x = np.asanyarray(x)\n",
    "    unique, counts = np.unique(a, return_counts=True)\n",
    "    max_count = counts.max()\n",
    "    return unique[counts == max_count]"
   ]
  },
  {
   "cell_type": "code",
   "execution_count": 22,
   "metadata": {},
   "outputs": [
    {
     "name": "stdout",
     "output_type": "stream",
     "text": [
      "moda de a:  [2 4]\n",
      "moda do numero de amigos:  [2 4]\n"
     ]
    }
   ],
   "source": [
    "a = [1, 2, 3, 4, 2, 4 ]\n",
    "print(\"moda de a: \", mode(a))\n",
    "\n",
    "print(\"moda do numero de amigos: \", mode(num_friends))"
   ]
  },
  {
   "cell_type": "markdown",
   "metadata": {},
   "source": [
    "Quando usarmos esses descritores para descrever dados, devemos ter muito cuidado. Considere, por exemplo, dados que possuem uma \"cauda pesada\", como uma amostra da [distribuição de Pareto](https://en.wikipedia.org/wiki/Pareto_distribution):"
   ]
  },
  {
   "cell_type": "code",
   "execution_count": 23,
   "metadata": {},
   "outputs": [],
   "source": [
    "a, m = 1, 5.  # shape and mode\n",
    "pareto_data = np.floor((np.random.pareto(a, 1000)+1) * m)"
   ]
  },
  {
   "cell_type": "markdown",
   "metadata": {},
   "source": [
    "Agora vamos plotar o histograma dos dados:"
   ]
  },
  {
   "cell_type": "code",
   "execution_count": 24,
   "metadata": {
    "scrolled": true
   },
   "outputs": [
    {
     "data": {
      "text/plain": [
       "<matplotlib.text.Text at 0x1148d4e48>"
      ]
     },
     "execution_count": 24,
     "metadata": {},
     "output_type": "execute_result"
    },
    {
     "data": {
      "image/png": "[encoded data removed]",
      "text/plain": [
       "<matplotlib.figure.Figure at 0x108ea6c18>"
      ]
     },
     "metadata": {
      "needs_background": "light"
     },
     "output_type": "display_data"
    }
   ],
   "source": [
    "minv = min(pareto_data)\n",
    "maxv = max(pareto_data)\n",
    "lenbins = 100\n",
    "logbins = np.logspace(np.log10(minv), np.log10(maxv), lenbins)\n",
    "hist, edges = np.histogram(\n",
    "    pareto_data,\n",
    "    bins=logbins)\n",
    "fig = plt.figure()\n",
    "plt.plot(edges[:-1], hist, 'o')\n",
    "plt.xscale('log')\n",
    "plt.yscale('log')\n",
    "plt.xlabel('x')\n",
    "plt.ylabel('count')"
   ]
  },
  {
   "cell_type": "markdown",
   "metadata": {},
   "source": [
    "Observe que a grande maioria dos valores é menor que $10$, mas existe uma quantidade significativa de valores na casa das centenas e até dos milhares. \n",
    "\n",
    "Nesse caso, qual é o melhor descritor para esses dados?"
   ]
  },
  {
   "cell_type": "code",
   "execution_count": 25,
   "metadata": {
    "scrolled": true
   },
   "outputs": [
    {
     "name": "stdout",
     "output_type": "stream",
     "text": [
      "41.741 10.0 10974.0 [1]\n"
     ]
    }
   ],
   "source": [
    "print(mean(pareto_data), median(pareto_data), max(pareto_data), mode(pareto_data))"
   ]
  },
  {
   "cell_type": "markdown",
   "metadata": {},
   "source": [
    "Ao que parece, todos eles são importantes."
   ]
  },
  {
   "cell_type": "markdown",
   "metadata": {},
   "source": [
    "## Dispersão\n",
    "\n",
    "Dispersão refere-se a medidas de como se espalham nossos dados. Normalmente, são estatísticas para as quais valores próximos de zero significam que os dados não se espalham de forma alguma e para as quais grandes valores (seja lá o que isso signifique) significam que os dados estão muito dispersos. Por exemplo, uma medida muito simples é o intervalo (ou *range*), que é apenas a diferença entre os elementos maiores e menores:"
   ]
  },
  {
   "cell_type": "code",
   "execution_count": 26,
   "metadata": {},
   "outputs": [],
   "source": [
    "# \"range\" já significa algo em Python, então vamos usar outro nome\n",
    "def data_range(x):\n",
    "    return max(x) - min(x)"
   ]
  },
  {
   "cell_type": "code",
   "execution_count": 27,
   "metadata": {},
   "outputs": [
    {
     "name": "stdout",
     "output_type": "stream",
     "text": [
      "range:  99\n"
     ]
    }
   ],
   "source": [
    "print(\"range: \", data_range(num_friends))"
   ]
  },
  {
   "cell_type": "markdown",
   "metadata": {},
   "source": [
    "O intervalo é zero precisamente quando `max` e `min` são iguais, o que só pode acontecer se os elementos de `x` forem todos iguais, o que significa que os dados são tão similares (ou não dispersos) quanto possível. Por outro lado, se o intervalo for grande, o `max` é muito maior que o `min` e os dados estão mais espalhados.\n",
    "\n",
    "Como a mediana, o intervalo não depende realmente de todo o conjunto de dados. Um conjunto de dados cujos pontos são todos 0 ou 100 tem o mesmo intervalo que um conjunto de dados cujos valores são 0, 100 e muitos 50s. Mas parece que o primeiro conjunto de dados \"deveria\" estar mais espalhado, certo?\n",
    "\n",
    "Uma medida mais complexa de dispersão é a variância $s^2$. Quando a variância da população é estimada usando $n$ amostras aleatórias $x_1, x_2, ..., x_n$ a fórmula seguinte é um estimador não enviesado:\n",
    "\n",
    "$$s^{2}={\\frac {1}{n-1}}\\sum _{{i=1}}^{n}\\left(x_{i}-\\overline {x}\\right)^{2}$$"
   ]
  },
  {
   "cell_type": "markdown",
   "metadata": {},
   "source": [
    "O código abaixo faz o mesmo:"
   ]
  },
  {
   "cell_type": "code",
   "execution_count": 28,
   "metadata": {},
   "outputs": [
    {
     "name": "stdout",
     "output_type": "stream",
     "text": [
      "variancia:  81.5435139573\n"
     ]
    }
   ],
   "source": [
    "def de_mean(x):\n",
    "    \"\"\"translada x subtraindo sua média (então o resultado tem média 0)\"\"\"\n",
    "    x_bar = mean(x)\n",
    "    return [x_i - x_bar for x_i in x]\n",
    "\n",
    "def variance(x):\n",
    "    \"\"\"assume que x tem pelo menos dois elementos\"\"\"\n",
    "    n = len(x)\n",
    "    deviations = de_mean(x)\n",
    "    deviations = np.array(deviations) #vamos usar numpy muito de agora em diante\n",
    "    return np.sum(deviations ** 2) / (n-1)\n",
    "    #voce pode usar a funcao que implementamos anteriormente:\n",
    "    #return sum_of_squares(deviations) / (n - 1)\n",
    "\n",
    "print(\"variancia: \", variance(num_friends))"
   ]
  },
  {
   "cell_type": "markdown",
   "metadata": {},
   "source": [
    "A primeira observação é o uso do módulo `numpy`. A partir de agora vamos usar muito esse módulo, que contém diversas operações sobre listas, que são implementadas de forma eficiente.\n",
    "\n",
    "Na aula passada, implementamos a função `sum_of_squares`. Para fazer a mesma coisa, e de forma mais rápida, podemos usar a função `sum` do `numpy` e o operador `**` para elevar todos os elementos de uma lista a uma dada potência, nesse caso, `2`. Note que antes de usar executar essas operações, é necessário converter a lista para um *array* do `numpy`.\n",
    "\n",
    "Segundo, parece que a variância é quase o desvio médio da média, exceto pelo fato de estarmos dividindo por `n-1` em vez de `n`. De fato, quando estamos lidando com uma amostra de uma população maior, $\\overline {x}$ é apenas uma estimativa da média real, o que significa que, em média $\\left(x_{i}-\\overline {x}\\right)^{2}$ é uma subestimativa do desvio ao quadrado de $x_i$ em relação à média. Por isso que nós dividimos por `n-1` ao invés de `n`. Para mais informações, consulte o [Wikipedia](https://en.wikipedia.org/wiki/Unbiased_estimation_of_standard_deviation).\n",
    "\n",
    "Agora, quaisquer que sejam as unidades em que nossos dados estão (por exemplo, \"# de amigos\"), todas as nossas medidas de tendência central estão nessa mesma unidade. O intervalo será similarmente nessa mesma unidade. A variância, por outro lado, tem unidades que são o quadrado das unidades originais (por exemplo, \" # de amigos ao quadrado\"). Como pode ser difícil entender essa medida, muitas vezes olhamos para o desvio padrão $s = \\sqrt{s^2}$:"
   ]
  },
  {
   "cell_type": "code",
   "execution_count": 29,
   "metadata": {},
   "outputs": [
    {
     "name": "stdout",
     "output_type": "stream",
     "text": [
      "desvio padrao:  9.03014473623\n"
     ]
    }
   ],
   "source": [
    "def standard_deviation(x):\n",
    "    return np.sqrt(variance(x))\n",
    "\n",
    "print(\"desvio padrao: \", standard_deviation(num_friends))"
   ]
  },
  {
   "cell_type": "markdown",
   "metadata": {},
   "source": [
    "Tanto o intervalo quanto o desvio padrão têm o mesmo problema discrepante que vimos anteriormente para a média. Usando o mesmo exemplo, se nosso usuário mais amigável tivesse `2000` amigos, o desvio padrão seria muito maior somente por causa desse usuário. Uma alternativa mais robusta calcula a diferença entre o valor do 75º e do 25º percentil:"
   ]
  },
  {
   "cell_type": "code",
   "execution_count": 30,
   "metadata": {},
   "outputs": [
    {
     "name": "stdout",
     "output_type": "stream",
     "text": [
      "intervalo interquartil: 6\n"
     ]
    }
   ],
   "source": [
    "def interquartile_range(x):\n",
    "    return quantile(x, 0.75) - quantile(x, 0.25)\n",
    "\n",
    "print(\"intervalo interquartil:\", interquartile_range(num_friends))"
   ]
  },
  {
   "cell_type": "markdown",
   "metadata": {},
   "source": [
    "Essa medida é muito pouco afetada por *outliers*."
   ]
  },
  {
   "cell_type": "markdown",
   "metadata": {},
   "source": [
    "Medidas de dispersão para o número de amigos:"
   ]
  },
  {
   "cell_type": "code",
   "execution_count": 31,
   "metadata": {},
   "outputs": [
    {
     "name": "stdout",
     "output_type": "stream",
     "text": [
      "Dispersão para o número de amigos:\n",
      "Intervalo: 99\n",
      "Variância: 81.5435139573\n",
      "Desvio padrão: 9.03014473623\n",
      "IQR: 6\n"
     ]
    }
   ],
   "source": [
    "print(\"Dispersão para o número de amigos:\")\n",
    "print(\"Intervalo:\", data_range(num_friends))\n",
    "print(\"Variância:\", variance(num_friends))\n",
    "print(\"Desvio padrão:\", standard_deviation(num_friends))\n",
    "print(\"IQR:\", interquartile_range(num_friends))"
   ]
  },
  {
   "cell_type": "markdown",
   "metadata": {},
   "source": [
    "Medidas de dispersão para dados com \"cauda pesada\":"
   ]
  },
  {
   "cell_type": "code",
   "execution_count": 32,
   "metadata": {},
   "outputs": [
    {
     "name": "stdout",
     "output_type": "stream",
     "text": [
      "Dispersão de dados Pareto:\n",
      "Intervalo: 10969.0\n",
      "Variância: 128735.975895\n",
      "Desvio padrão: 358.797959714\n",
      "IQR: 15.0\n"
     ]
    }
   ],
   "source": [
    "print(\"Dispersão de dados Pareto:\")\n",
    "print(\"Intervalo:\", data_range(pareto_data))\n",
    "print(\"Variância:\", variance(pareto_data))\n",
    "print(\"Desvio padrão:\", standard_deviation(pareto_data))\n",
    "print(\"IQR:\", interquartile_range(pareto_data))"
   ]
  },
  {
   "cell_type": "markdown",
   "metadata": {},
   "source": [
    "## Para explorações futuras\n",
    "\n",
    "* [`SciPy`](https://www.scipy.org/), [`pandas`](https://pandas.pydata.org/) e [`StatsModels`](https://www.statsmodels.org/stable/index.html) vêm com uma ampla variedade de funções estatísticas.\n",
    "\n",
    "* Estatísticas são *importantes*. (Ou talvez as estatísticas *sejam* importantes?) Se você quer ser um bom cientista de dados, seria uma boa idéia ler um livro de estatísticas. Muitos estão disponíveis gratuitamente online. Dois exemplos:\n",
    " - [*OpenIntro Statistics*](https://www.openintro.org/stat/textbook.php)\n",
    " - [*OpenStax Introductory Statistics*](https://openstax.org/details/introductory-statistics)"
   ]
  }
 ],
 "metadata": {
  "kernelspec": {
   "display_name": "Python 3",
   "language": "python",
   "name": "python3"
  },
  "language_info": {
   "codemirror_mode": {
    "name": "ipython",
    "version": 3
   },
   "file_extension": ".py",
   "mimetype": "text/x-python",
   "name": "python",
   "nbconvert_exporter": "python",
   "pygments_lexer": "ipython3",
   "version": "3.6.8"
  }
 },
 "nbformat": 4,
 "nbformat_minor": 2
}
