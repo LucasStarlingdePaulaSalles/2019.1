{
 "cells": [
  {
   "cell_type": "markdown",
   "metadata": {},
   "source": [
    "# Aula 03 - Tabelas e Tipos de Dados\n",
    "\n",
    "## Objetivos\n",
    "\n",
    "1. Aprender Pandas\n",
    "2. Entender diferentes tipos de dados\n",
    "3. Básico de filtros e seleções\n",
    "\n",
    "## Resultado Esperado\n",
    "\n",
    "1. Aplicação de filtros básicos para gerar insights nos dados da NBA"
   ]
  },
  {
   "cell_type": "markdown",
   "metadata": {},
   "source": [
    "A principal biblioteca para leitura de dados tabulares em Python se chama Pandas. A mesma é bastante poderosa implementando uma série de operações de bancos de dados (e.g., groupby e join). Durante esta aula, também vamos aprender um pouco de bash."
   ]
  },
  {
   "cell_type": "code",
   "execution_count": 1,
   "metadata": {
    "collapsed": true
   },
   "outputs": [],
   "source": [
    "# -*- coding: utf8\n",
    "\n",
    "import pandas as pd\n",
    "import matplotlib.pyplot as plt\n",
    "\n",
    "plt.ion()"
   ]
  },
  {
   "cell_type": "markdown",
   "metadata": {},
   "source": [
    "## Series\n",
    "\n",
    "Um dos tipos base do pandas é o Series. O mesmo, captura uma série de dados (ou vetor), indexado."
   ]
  },
  {
   "cell_type": "code",
   "execution_count": 2,
   "metadata": {
    "collapsed": true
   },
   "outputs": [],
   "source": [
    "data = pd.Series([0.25, 0.5, 0.75, 1.0],\n",
    "                 index=['a', 'b', 'c', 'd'])"
   ]
  },
  {
   "cell_type": "code",
   "execution_count": 3,
   "metadata": {
    "collapsed": false
   },
   "outputs": [
    {
     "data": {
      "text/plain": [
       "a    0.25\n",
       "b    0.50\n",
       "c    0.75\n",
       "d    1.00\n",
       "dtype: float64"
      ]
     },
     "execution_count": 3,
     "metadata": {},
     "output_type": "execute_result"
    }
   ],
   "source": [
    "data"
   ]
  },
  {
   "cell_type": "markdown",
   "metadata": {},
   "source": [
    "Note que podemos usar como um vetor"
   ]
  },
  {
   "cell_type": "code",
   "execution_count": 4,
   "metadata": {
    "collapsed": false
   },
   "outputs": [
    {
     "data": {
      "text/plain": [
       "0.25"
      ]
     },
     "execution_count": 4,
     "metadata": {},
     "output_type": "execute_result"
    }
   ],
   "source": [
    "data[0]"
   ]
  },
  {
   "cell_type": "markdown",
   "metadata": {},
   "source": [
    "Porém o índice nos ajuda. Para um exemplo trivial como este não será tão interessante, mas vamos usar o mesmo."
   ]
  },
  {
   "cell_type": "code",
   "execution_count": 5,
   "metadata": {
    "collapsed": false
   },
   "outputs": [
    {
     "data": {
      "text/plain": [
       "Index(['a', 'b', 'c', 'd'], dtype='object')"
      ]
     },
     "execution_count": 5,
     "metadata": {},
     "output_type": "execute_result"
    }
   ],
   "source": [
    "data.index"
   ]
  },
  {
   "cell_type": "markdown",
   "metadata": {},
   "source": [
    "Com .loc acessamos a linha do índice."
   ]
  },
  {
   "cell_type": "code",
   "execution_count": 6,
   "metadata": {
    "collapsed": false
   },
   "outputs": [
    {
     "data": {
      "text/plain": [
       "0.25"
      ]
     },
     "execution_count": 6,
     "metadata": {},
     "output_type": "execute_result"
    }
   ],
   "source": [
    "data.loc['a']"
   ]
  },
  {
   "cell_type": "code",
   "execution_count": 7,
   "metadata": {
    "collapsed": false
   },
   "outputs": [
    {
     "data": {
      "text/plain": [
       "0.5"
      ]
     },
     "execution_count": 7,
     "metadata": {},
     "output_type": "execute_result"
    }
   ],
   "source": [
    "data.loc['b']"
   ]
  },
  {
   "cell_type": "markdown",
   "metadata": {},
   "source": [
    "Com iloc acessamos por número da linha, estilho um vetor."
   ]
  },
  {
   "cell_type": "code",
   "execution_count": 8,
   "metadata": {
    "collapsed": false
   },
   "outputs": [
    {
     "data": {
      "text/plain": [
       "0.25"
      ]
     },
     "execution_count": 8,
     "metadata": {},
     "output_type": "execute_result"
    }
   ],
   "source": [
    "data.iloc[0]"
   ]
  },
  {
   "cell_type": "markdown",
   "metadata": {},
   "source": [
    "## Data Frames\n",
    "\n",
    "Ao combinar várias Series com um índice comum, criamos um **dataframe**. Não é tão comum gerar os mesmos na mão como estamos fazendo, geralmente fazemos uso de arquivos. De qualquer forma, observe a estrutura do mesmo."
   ]
  },
  {
   "cell_type": "markdown",
   "metadata": {},
   "source": [
    "Lembre-se que {}/dict é um dicionário (ou mapa) em Python. Podemos criar uma série a partir de um dicionário\n",
    "index->value"
   ]
  },
  {
   "cell_type": "code",
   "execution_count": 9,
   "metadata": {
    "collapsed": false
   },
   "outputs": [],
   "source": [
    "area_dict = {'California': 423967,\n",
    "             'Texas': 695662,\n",
    "             'New York': 141297,\n",
    "             'Florida': 170312,\n",
    "             'Illinois': 149995}"
   ]
  },
  {
   "cell_type": "code",
   "execution_count": 10,
   "metadata": {
    "collapsed": false
   },
   "outputs": [
    {
     "data": {
      "text/plain": [
       "['New York', 'Florida', 'California', 'Texas', 'Illinois']"
      ]
     },
     "execution_count": 10,
     "metadata": {},
     "output_type": "execute_result"
    }
   ],
   "source": [
    "list(area_dict.keys())"
   ]
  },
  {
   "cell_type": "code",
   "execution_count": 11,
   "metadata": {
    "collapsed": false
   },
   "outputs": [
    {
     "data": {
      "text/plain": [
       "[141297, 170312, 423967, 695662, 149995]"
      ]
     },
     "execution_count": 11,
     "metadata": {},
     "output_type": "execute_result"
    }
   ],
   "source": [
    "list(area_dict.values())"
   ]
  },
  {
   "cell_type": "code",
   "execution_count": 12,
   "metadata": {
    "collapsed": false
   },
   "outputs": [
    {
     "data": {
      "text/plain": [
       "423967"
      ]
     },
     "execution_count": 12,
     "metadata": {},
     "output_type": "execute_result"
    }
   ],
   "source": [
    "area_dict['California']"
   ]
  },
  {
   "cell_type": "code",
   "execution_count": 13,
   "metadata": {
    "collapsed": false
   },
   "outputs": [
    {
     "data": {
      "text/plain": [
       "California    423967\n",
       "Florida       170312\n",
       "Illinois      149995\n",
       "New York      141297\n",
       "Texas         695662\n",
       "dtype: int64"
      ]
     },
     "execution_count": 13,
     "metadata": {},
     "output_type": "execute_result"
    }
   ],
   "source": [
    "area = pd.Series(area_dict)\n",
    "area"
   ]
  },
  {
   "cell_type": "code",
   "execution_count": 14,
   "metadata": {
    "collapsed": false
   },
   "outputs": [
    {
     "data": {
      "text/plain": [
       "California    38332521\n",
       "Florida       19552860\n",
       "Illinois      12882135\n",
       "New York      19651127\n",
       "Texas         26448193\n",
       "dtype: int64"
      ]
     },
     "execution_count": 14,
     "metadata": {},
     "output_type": "execute_result"
    }
   ],
   "source": [
    "pop_dict= {'California': 38332521,\n",
    "           'Texas': 26448193,\n",
    "           'New York': 19651127,\n",
    "           'Florida': 19552860,\n",
    "           'Illinois': 12882135}\n",
    "pop = pd.Series(pop_dict)\n",
    "pop"
   ]
  },
  {
   "cell_type": "code",
   "execution_count": 15,
   "metadata": {
    "collapsed": false
   },
   "outputs": [
    {
     "data": {
      "text/html": [
       "<div>\n",
       "<style scoped>\n",
       "    .dataframe tbody tr th:only-of-type {\n",
       "        vertical-align: middle;\n",
       "    }\n",
       "\n",
       "    .dataframe tbody tr th {\n",
       "        vertical-align: top;\n",
       "    }\n",
       "\n",
       "    .dataframe thead th {\n",
       "        text-align: right;\n",
       "    }\n",
       "</style>\n",
       "<table border=\"1\" class=\"dataframe\">\n",
       "  <thead>\n",
       "    <tr style=\"text-align: right;\">\n",
       "      <th></th>\n",
       "      <th>area</th>\n",
       "      <th>pop</th>\n",
       "    </tr>\n",
       "  </thead>\n",
       "  <tbody>\n",
       "    <tr>\n",
       "      <th>California</th>\n",
       "      <td>423967</td>\n",
       "      <td>38332521</td>\n",
       "    </tr>\n",
       "    <tr>\n",
       "      <th>Florida</th>\n",
       "      <td>170312</td>\n",
       "      <td>19552860</td>\n",
       "    </tr>\n",
       "    <tr>\n",
       "      <th>Illinois</th>\n",
       "      <td>149995</td>\n",
       "      <td>12882135</td>\n",
       "    </tr>\n",
       "    <tr>\n",
       "      <th>New York</th>\n",
       "      <td>141297</td>\n",
       "      <td>19651127</td>\n",
       "    </tr>\n",
       "    <tr>\n",
       "      <th>Texas</th>\n",
       "      <td>695662</td>\n",
       "      <td>26448193</td>\n",
       "    </tr>\n",
       "  </tbody>\n",
       "</table>\n",
       "</div>"
      ],
      "text/plain": [
       "              area       pop\n",
       "California  423967  38332521\n",
       "Florida     170312  19552860\n",
       "Illinois    149995  12882135\n",
       "New York    141297  19651127\n",
       "Texas       695662  26448193"
      ]
     },
     "execution_count": 15,
     "metadata": {},
     "output_type": "execute_result"
    }
   ],
   "source": [
    "data = pd.DataFrame({'area':area, 'pop':pop})\n",
    "data"
   ]
  },
  {
   "cell_type": "markdown",
   "metadata": {},
   "source": [
    "Agora o use de .loc e .iloc deve ficar mais claro, observe os exemplos abaixo."
   ]
  },
  {
   "cell_type": "code",
   "execution_count": 16,
   "metadata": {
    "collapsed": false
   },
   "outputs": [
    {
     "data": {
      "text/plain": [
       "area      423967\n",
       "pop     38332521\n",
       "Name: California, dtype: int64"
      ]
     },
     "execution_count": 16,
     "metadata": {},
     "output_type": "execute_result"
    }
   ],
   "source": [
    "data.loc['California']"
   ]
  },
  {
   "cell_type": "code",
   "execution_count": 17,
   "metadata": {
    "collapsed": false
   },
   "outputs": [
    {
     "data": {
      "text/html": [
       "<div>\n",
       "<style scoped>\n",
       "    .dataframe tbody tr th:only-of-type {\n",
       "        vertical-align: middle;\n",
       "    }\n",
       "\n",
       "    .dataframe tbody tr th {\n",
       "        vertical-align: top;\n",
       "    }\n",
       "\n",
       "    .dataframe thead th {\n",
       "        text-align: right;\n",
       "    }\n",
       "</style>\n",
       "<table border=\"1\" class=\"dataframe\">\n",
       "  <thead>\n",
       "    <tr style=\"text-align: right;\">\n",
       "      <th></th>\n",
       "      <th>area</th>\n",
       "      <th>pop</th>\n",
       "    </tr>\n",
       "  </thead>\n",
       "  <tbody>\n",
       "    <tr>\n",
       "      <th>California</th>\n",
       "      <td>423967</td>\n",
       "      <td>38332521</td>\n",
       "    </tr>\n",
       "    <tr>\n",
       "      <th>Texas</th>\n",
       "      <td>695662</td>\n",
       "      <td>26448193</td>\n",
       "    </tr>\n",
       "  </tbody>\n",
       "</table>\n",
       "</div>"
      ],
      "text/plain": [
       "              area       pop\n",
       "California  423967  38332521\n",
       "Texas       695662  26448193"
      ]
     },
     "execution_count": 17,
     "metadata": {},
     "output_type": "execute_result"
    }
   ],
   "source": [
    "data.loc[['California', 'Texas']]"
   ]
  },
  {
   "cell_type": "markdown",
   "metadata": {},
   "source": [
    "Assim como o use de iloc, pois temos uma ordem nas linhas. (o índice também é ordenado, mas pode não ser claro a primeira vista)."
   ]
  },
  {
   "cell_type": "code",
   "execution_count": 18,
   "metadata": {
    "collapsed": false
   },
   "outputs": [
    {
     "data": {
      "text/plain": [
       "area      423967\n",
       "pop     38332521\n",
       "Name: California, dtype: int64"
      ]
     },
     "execution_count": 18,
     "metadata": {},
     "output_type": "execute_result"
    }
   ],
   "source": [
    "data.iloc[0]"
   ]
  },
  {
   "cell_type": "markdown",
   "metadata": {},
   "source": [
    "Podemos realize slicing, estilo uma lista. Caso não conheça, tente executar o exemplo abaixo:\n",
    "\n",
    "```python\n",
    "l = []\n",
    "l = [7, 1, 3, 5, 9]\n",
    "print(l[0])\n",
    "print(l[1])\n",
    "print(l[2])\n",
    "\n",
    "# Agora, l[bg:ed] retorna uma sublista iniciando em bg e terminando em ed-1\n",
    "print(l[1:4])\n",
    "```"
   ]
  },
  {
   "cell_type": "code",
   "execution_count": 19,
   "metadata": {
    "collapsed": false
   },
   "outputs": [
    {
     "name": "stdout",
     "output_type": "stream",
     "text": [
      "7\n",
      "1\n",
      "3\n",
      "[1, 3, 5]\n"
     ]
    }
   ],
   "source": [
    "l = []\n",
    "l = [7, 1, 3, 5, 9]\n",
    "print(l[0])\n",
    "print(l[1])\n",
    "print(l[2])\n",
    "\n",
    "# Agora, l[bg:ed] retorna uma sublista iniciando em bg e terminando em ed-1\n",
    "print(l[1:4])"
   ]
  },
  {
   "cell_type": "markdown",
   "metadata": {},
   "source": [
    "Agora voltando para o nosso **dataframe**, podemos fazer a mesma coisa usando `.iloc`."
   ]
  },
  {
   "cell_type": "code",
   "execution_count": 20,
   "metadata": {
    "collapsed": false
   },
   "outputs": [
    {
     "data": {
      "text/html": [
       "<div>\n",
       "<style scoped>\n",
       "    .dataframe tbody tr th:only-of-type {\n",
       "        vertical-align: middle;\n",
       "    }\n",
       "\n",
       "    .dataframe tbody tr th {\n",
       "        vertical-align: top;\n",
       "    }\n",
       "\n",
       "    .dataframe thead th {\n",
       "        text-align: right;\n",
       "    }\n",
       "</style>\n",
       "<table border=\"1\" class=\"dataframe\">\n",
       "  <thead>\n",
       "    <tr style=\"text-align: right;\">\n",
       "      <th></th>\n",
       "      <th>area</th>\n",
       "      <th>pop</th>\n",
       "    </tr>\n",
       "  </thead>\n",
       "  <tbody>\n",
       "    <tr>\n",
       "      <th>Illinois</th>\n",
       "      <td>149995</td>\n",
       "      <td>12882135</td>\n",
       "    </tr>\n",
       "    <tr>\n",
       "      <th>New York</th>\n",
       "      <td>141297</td>\n",
       "      <td>19651127</td>\n",
       "    </tr>\n",
       "  </tbody>\n",
       "</table>\n",
       "</div>"
      ],
      "text/plain": [
       "            area       pop\n",
       "Illinois  149995  12882135\n",
       "New York  141297  19651127"
      ]
     },
     "execution_count": 20,
     "metadata": {},
     "output_type": "execute_result"
    }
   ],
   "source": [
    "data.iloc[2:4]"
   ]
  },
  {
   "cell_type": "markdown",
   "metadata": {},
   "source": [
    "Podemos adicionar novas colunas facilmente."
   ]
  },
  {
   "cell_type": "code",
   "execution_count": 21,
   "metadata": {
    "collapsed": false
   },
   "outputs": [
    {
     "data": {
      "text/html": [
       "<div>\n",
       "<style scoped>\n",
       "    .dataframe tbody tr th:only-of-type {\n",
       "        vertical-align: middle;\n",
       "    }\n",
       "\n",
       "    .dataframe tbody tr th {\n",
       "        vertical-align: top;\n",
       "    }\n",
       "\n",
       "    .dataframe thead th {\n",
       "        text-align: right;\n",
       "    }\n",
       "</style>\n",
       "<table border=\"1\" class=\"dataframe\">\n",
       "  <thead>\n",
       "    <tr style=\"text-align: right;\">\n",
       "      <th></th>\n",
       "      <th>area</th>\n",
       "      <th>pop</th>\n",
       "      <th>density</th>\n",
       "    </tr>\n",
       "  </thead>\n",
       "  <tbody>\n",
       "    <tr>\n",
       "      <th>California</th>\n",
       "      <td>423967</td>\n",
       "      <td>38332521</td>\n",
       "      <td>90.413926</td>\n",
       "    </tr>\n",
       "    <tr>\n",
       "      <th>Florida</th>\n",
       "      <td>170312</td>\n",
       "      <td>19552860</td>\n",
       "      <td>114.806121</td>\n",
       "    </tr>\n",
       "    <tr>\n",
       "      <th>Illinois</th>\n",
       "      <td>149995</td>\n",
       "      <td>12882135</td>\n",
       "      <td>85.883763</td>\n",
       "    </tr>\n",
       "    <tr>\n",
       "      <th>New York</th>\n",
       "      <td>141297</td>\n",
       "      <td>19651127</td>\n",
       "      <td>139.076746</td>\n",
       "    </tr>\n",
       "    <tr>\n",
       "      <th>Texas</th>\n",
       "      <td>695662</td>\n",
       "      <td>26448193</td>\n",
       "      <td>38.018740</td>\n",
       "    </tr>\n",
       "  </tbody>\n",
       "</table>\n",
       "</div>"
      ],
      "text/plain": [
       "              area       pop     density\n",
       "California  423967  38332521   90.413926\n",
       "Florida     170312  19552860  114.806121\n",
       "Illinois    149995  12882135   85.883763\n",
       "New York    141297  19651127  139.076746\n",
       "Texas       695662  26448193   38.018740"
      ]
     },
     "execution_count": 21,
     "metadata": {},
     "output_type": "execute_result"
    }
   ],
   "source": [
    "data['density'] = data['pop'] / data['area']\n",
    "data"
   ]
  },
  {
   "cell_type": "markdown",
   "metadata": {},
   "source": [
    "## Arquivos\n",
    "\n",
    "Ao usar uma exclamação (!) no notebook Jupyter, conseguimos executar comandos do shell do sistema. Em particular, aqui estamos executando o comando ls para indentificar os dados da pasta atual."
   ]
  },
  {
   "cell_type": "code",
   "execution_count": 22,
   "metadata": {
    "collapsed": false
   },
   "outputs": [
    {
     "name": "stdout",
     "output_type": "stream",
     "text": [
      "IV.csv                        hybrid_reg.csv\r\n",
      "README.md                     income_small.csv\r\n",
      "actors.csv                    kaiser_ethnicity_children.csv\r\n",
      "airline_ontime.csv            kaiser_ethnicity_everyone.csv\r\n",
      "anscombe.csv                  little_women.csv\r\n",
      "baby.csv                      married_couples.csv\r\n",
      "banknote.csv                  minard.csv\r\n",
      "birds.csv                     movies_by_year.csv\r\n",
      "birth_time.csv                nba2013.csv\r\n",
      "breast-cancer.csv             nba_salaries.csv\r\n",
      "bta.csv                       nc-est2014-agesex-res.csv\r\n",
      "children_raw.csv              nc-est2015-agesex-res.csv\r\n",
      "ckd.csv                       observed_outcomes.csv\r\n",
      "cones.csv                     potential_outcomes.csv\r\n",
      "couples.csv                   roulette_wheel.csv\r\n",
      "deflategate.csv               san_francisco_2015.csv\r\n",
      "educ_inc.csv                  sat2014.csv\r\n",
      "everyone_raw.csv              scores_by_section.csv\r\n",
      "experimento-lastfm.csv        shotput.csv\r\n",
      "faithful.csv                  station.csv\r\n",
      "football.csv                  top_movies.csv\r\n",
      "galton.csv                    trip.csv\r\n",
      "galton_subset.csv             unfair_flips.csv\r\n",
      "grades_and_piazza.csv         united_summer2015.csv\r\n",
      "heights.csv                   us_women.csv\r\n",
      "hodgkins.csv                  usa_ca_2014.csv\r\n",
      "house.csv                     wine.csv\r\n",
      "hybrid.csv\r\n"
     ]
    }
   ],
   "source": [
    "!ls ../../../data"
   ]
  },
  {
   "cell_type": "markdown",
   "metadata": {},
   "source": [
    "Com a opção -lha, mostramos meta-dados dos arquivos como o owner, tamanho e permissões. Note que todos os arquivos são .csv, isto é comma separated."
   ]
  },
  {
   "cell_type": "code",
   "execution_count": 23,
   "metadata": {
    "collapsed": false
   },
   "outputs": [
    {
     "name": "stdout",
     "output_type": "stream",
     "text": [
      "total 126744\r\n",
      "drwxr-xr-x  58 flaviovdf  staff   1.8K Feb 25 14:49 \u001b[1m\u001b[36m.\u001b[m\u001b[m\r\n",
      "drwxr-xr-x   4 flaviovdf  staff   128B Feb 25 14:49 \u001b[1m\u001b[36m..\u001b[m\u001b[m\r\n",
      "drwxr-xr-x  12 flaviovdf  staff   384B Feb 25 14:49 \u001b[1m\u001b[36m.git\u001b[m\u001b[m\r\n",
      "-rw-r--r--   1 flaviovdf  staff   7.4K Feb 25 14:49 IV.csv\r\n",
      "-rw-r--r--   1 flaviovdf  staff    32B Feb 25 14:49 README.md\r\n",
      "-rw-r--r--   1 flaviovdf  staff   3.0K Feb 25 14:49 actors.csv\r\n",
      "-rw-r--r--   1 flaviovdf  staff   7.4M Feb 25 14:49 airline_ontime.csv\r\n",
      "-rw-r--r--   1 flaviovdf  staff   348B Feb 25 14:49 anscombe.csv\r\n",
      "-rw-r--r--   1 flaviovdf  staff    27K Feb 25 14:49 baby.csv\r\n",
      "-rw-r--r--   1 flaviovdf  staff    44K Feb 25 14:49 banknote.csv\r\n",
      "-rw-r--r--   1 flaviovdf  staff   886B Feb 25 14:49 birds.csv\r\n",
      "-rw-r--r--   1 flaviovdf  staff   684B Feb 25 14:49 birth_time.csv\r\n",
      "-rw-r--r--   1 flaviovdf  staff    19K Feb 25 14:49 breast-cancer.csv\r\n",
      "-rw-r--r--   1 flaviovdf  staff   415B Feb 25 14:49 bta.csv\r\n",
      "-rw-r--r--   1 flaviovdf  staff   2.2K Feb 25 14:49 children_raw.csv\r\n",
      "-rw-r--r--   1 flaviovdf  staff    17K Feb 25 14:49 ckd.csv\r\n",
      "-rw-r--r--   1 flaviovdf  staff   160B Feb 25 14:49 cones.csv\r\n",
      "-rw-r--r--   1 flaviovdf  staff   193K Feb 25 14:49 couples.csv\r\n",
      "-rw-r--r--   1 flaviovdf  staff   310B Feb 25 14:49 deflategate.csv\r\n",
      "-rw-r--r--   1 flaviovdf  staff    82K Feb 25 14:49 educ_inc.csv\r\n",
      "-rw-r--r--   1 flaviovdf  staff   2.8K Feb 25 14:49 everyone_raw.csv\r\n",
      "-rw-r--r--   1 flaviovdf  staff   1.8M Feb 25 14:49 experimento-lastfm.csv\r\n",
      "-rw-r--r--   1 flaviovdf  staff   2.2K Feb 25 14:49 faithful.csv\r\n",
      "-rw-r--r--   1 flaviovdf  staff   374B Feb 25 14:49 football.csv\r\n",
      "-rw-r--r--   1 flaviovdf  staff    28K Feb 25 14:49 galton.csv\r\n",
      "-rw-r--r--   1 flaviovdf  staff   2.6K Feb 25 14:49 galton_subset.csv\r\n",
      "-rw-r--r--   1 flaviovdf  staff   786B Feb 25 14:49 grades_and_piazza.csv\r\n",
      "-rw-r--r--   1 flaviovdf  staff    11K Feb 25 14:49 heights.csv\r\n",
      "-rw-r--r--   1 flaviovdf  staff   568B Feb 25 14:49 hodgkins.csv\r\n",
      "-rw-r--r--   1 flaviovdf  staff   938K Feb 25 14:49 house.csv\r\n",
      "-rw-r--r--   1 flaviovdf  staff   6.3K Feb 25 14:49 hybrid.csv\r\n",
      "-rw-r--r--   1 flaviovdf  staff   6.6K Feb 25 14:49 hybrid_reg.csv\r\n",
      "-rw-r--r--   1 flaviovdf  staff   149K Feb 25 14:49 income_small.csv\r\n",
      "-rw-r--r--   1 flaviovdf  staff   5.7K Feb 25 14:49 kaiser_ethnicity_children.csv\r\n",
      "-rw-r--r--   1 flaviovdf  staff   9.7K Feb 25 14:49 kaiser_ethnicity_everyone.csv\r\n",
      "-rw-r--r--   1 flaviovdf  staff   484B Feb 25 14:49 little_women.csv\r\n",
      "-rw-r--r--   1 flaviovdf  staff    45K Feb 25 14:49 married_couples.csv\r\n",
      "-rw-r--r--   1 flaviovdf  staff   301B Feb 25 14:49 minard.csv\r\n",
      "-rw-r--r--   1 flaviovdf  staff   1.1K Feb 25 14:49 movies_by_year.csv\r\n",
      "-rw-r--r--   1 flaviovdf  staff    15K Feb 25 14:49 nba2013.csv\r\n",
      "-rw-r--r--   1 flaviovdf  staff    18K Feb 25 14:49 nba_salaries.csv\r\n",
      "-rw-r--r--   1 flaviovdf  staff    18K Feb 25 14:49 nc-est2014-agesex-res.csv\r\n",
      "-rw-r--r--   1 flaviovdf  staff    20K Feb 25 14:49 nc-est2015-agesex-res.csv\r\n",
      "-rw-r--r--   1 flaviovdf  staff   652B Feb 25 14:49 observed_outcomes.csv\r\n",
      "-rw-r--r--   1 flaviovdf  staff   182B Feb 25 14:49 potential_outcomes.csv\r\n",
      "-rw-r--r--   1 flaviovdf  staff   310B Feb 25 14:49 roulette_wheel.csv\r\n",
      "-rw-r--r--   1 flaviovdf  staff   9.9M Feb 25 14:49 san_francisco_2015.csv\r\n",
      "-rw-r--r--   1 flaviovdf  staff   1.6K Feb 25 14:49 sat2014.csv\r\n",
      "-rw-r--r--   1 flaviovdf  staff   1.8K Feb 25 14:49 scores_by_section.csv\r\n",
      "-rw-r--r--   1 flaviovdf  staff   325B Feb 25 14:49 shotput.csv\r\n",
      "-rw-r--r--   1 flaviovdf  staff   5.1K Feb 25 14:49 station.csv\r\n",
      "-rw-r--r--   1 flaviovdf  staff    11K Feb 25 14:49 top_movies.csv\r\n",
      "-rw-r--r--   1 flaviovdf  staff    41M Feb 25 14:49 trip.csv\r\n",
      "-rw-r--r--   1 flaviovdf  staff   356B Feb 25 14:49 unfair_flips.csv\r\n",
      "-rw-r--r--   1 flaviovdf  staff   257K Feb 25 14:49 united_summer2015.csv\r\n",
      "-rw-r--r--   1 flaviovdf  staff   122B Feb 25 14:49 us_women.csv\r\n",
      "-rw-r--r--   1 flaviovdf  staff   154B Feb 25 14:49 usa_ca_2014.csv\r\n",
      "-rw-r--r--   1 flaviovdf  staff    11K Feb 25 14:49 wine.csv\r\n"
     ]
    }
   ],
   "source": [
    "!ls -lha ../../../data"
   ]
  },
  {
   "cell_type": "markdown",
   "metadata": {},
   "source": [
    "Vamos identificar qual a cara de um csv."
   ]
  },
  {
   "cell_type": "code",
   "execution_count": 24,
   "metadata": {
    "collapsed": false
   },
   "outputs": [
    {
     "name": "stdout",
     "output_type": "stream",
     "text": [
      "Class,Alcohol,Malic Acid,Ash,Alcalinity of Ash,Magnesium,Total Phenols,Flavanoids,Nonflavanoid phenols,Proanthocyanins,Color Intensity,Hue,OD280/OD315 of diulted wines,Proline\r\n",
      "1,14.23,1.71,2.43,15.6,127,2.8,3.06,0.28,2.29,5.64,1.04,3.92,1065\r\n",
      "1,13.2,1.78,2.14,11.2,100,2.65,2.76,0.26,1.28,4.38,1.05,3.4,1050\r\n",
      "1,13.16,2.36,2.67,18.6,101,2.8,3.24,0.3,2.81,5.68,1.03,3.17,1185\r\n",
      "1,14.37,1.95,2.5,16.8,113,3.85,3.49,0.24,2.18,7.8,0.86,3.45,1480\r\n",
      "1,13.24,2.59,2.87,21,118,2.8,2.69,0.39,1.82,4.32,1.04,2.93,735\r\n",
      "1,14.2,1.76,2.45,15.2,112,3.27,3.39,0.34,1.97,6.75,1.05,2.85,1450\r\n",
      "1,14.39,1.87,2.45,14.6,96,2.5,2.52,0.3,1.98,5.25,1.02,3.58,1290\r\n",
      "1,14.06,2.15,2.61,17.6,121,2.6,2.51,0.31,1.25,5.05,1.06,3.58,1295\r\n",
      "1,14.83,1.64,2.17,14,97,2.8,2.98,0.29,1.98,5.2,1.08,2.85,1045\r\n"
     ]
    }
   ],
   "source": [
    "!head ../../../data/wine.csv"
   ]
  },
  {
   "cell_type": "markdown",
   "metadata": {},
   "source": [
    "## Lendo o nba_salaries.csv\n",
    "\n",
    "Para ler dados usando a biblioteca pandas basta usarmos a chamada: pd.read_csv. Note que o csv está bem organizado, por isso não passamos nenhum argumento extra.\n"
   ]
  },
  {
   "cell_type": "code",
   "execution_count": 25,
   "metadata": {
    "collapsed": false
   },
   "outputs": [
    {
     "data": {
      "text/html": [
       "<div>\n",
       "<style scoped>\n",
       "    .dataframe tbody tr th:only-of-type {\n",
       "        vertical-align: middle;\n",
       "    }\n",
       "\n",
       "    .dataframe tbody tr th {\n",
       "        vertical-align: top;\n",
       "    }\n",
       "\n",
       "    .dataframe thead th {\n",
       "        text-align: right;\n",
       "    }\n",
       "</style>\n",
       "<table border=\"1\" class=\"dataframe\">\n",
       "  <thead>\n",
       "    <tr style=\"text-align: right;\">\n",
       "      <th></th>\n",
       "      <th>PLAYER</th>\n",
       "      <th>POSITION</th>\n",
       "      <th>TEAM</th>\n",
       "      <th>SALARY</th>\n",
       "    </tr>\n",
       "  </thead>\n",
       "  <tbody>\n",
       "    <tr>\n",
       "      <th>0</th>\n",
       "      <td>Paul Millsap</td>\n",
       "      <td>PF</td>\n",
       "      <td>Atlanta Hawks</td>\n",
       "      <td>18.671659</td>\n",
       "    </tr>\n",
       "    <tr>\n",
       "      <th>1</th>\n",
       "      <td>Al Horford</td>\n",
       "      <td>C</td>\n",
       "      <td>Atlanta Hawks</td>\n",
       "      <td>12.000000</td>\n",
       "    </tr>\n",
       "    <tr>\n",
       "      <th>2</th>\n",
       "      <td>Tiago Splitter</td>\n",
       "      <td>C</td>\n",
       "      <td>Atlanta Hawks</td>\n",
       "      <td>9.756250</td>\n",
       "    </tr>\n",
       "    <tr>\n",
       "      <th>3</th>\n",
       "      <td>Jeff Teague</td>\n",
       "      <td>PG</td>\n",
       "      <td>Atlanta Hawks</td>\n",
       "      <td>8.000000</td>\n",
       "    </tr>\n",
       "    <tr>\n",
       "      <th>4</th>\n",
       "      <td>Kyle Korver</td>\n",
       "      <td>SG</td>\n",
       "      <td>Atlanta Hawks</td>\n",
       "      <td>5.746479</td>\n",
       "    </tr>\n",
       "    <tr>\n",
       "      <th>5</th>\n",
       "      <td>Thabo Sefolosha</td>\n",
       "      <td>SF</td>\n",
       "      <td>Atlanta Hawks</td>\n",
       "      <td>4.000000</td>\n",
       "    </tr>\n",
       "    <tr>\n",
       "      <th>6</th>\n",
       "      <td>Mike Scott</td>\n",
       "      <td>PF</td>\n",
       "      <td>Atlanta Hawks</td>\n",
       "      <td>3.333333</td>\n",
       "    </tr>\n",
       "    <tr>\n",
       "      <th>7</th>\n",
       "      <td>Kent Bazemore</td>\n",
       "      <td>SF</td>\n",
       "      <td>Atlanta Hawks</td>\n",
       "      <td>2.000000</td>\n",
       "    </tr>\n",
       "    <tr>\n",
       "      <th>8</th>\n",
       "      <td>Dennis Schroder</td>\n",
       "      <td>PG</td>\n",
       "      <td>Atlanta Hawks</td>\n",
       "      <td>1.763400</td>\n",
       "    </tr>\n",
       "    <tr>\n",
       "      <th>9</th>\n",
       "      <td>Tim Hardaway Jr.</td>\n",
       "      <td>SG</td>\n",
       "      <td>Atlanta Hawks</td>\n",
       "      <td>1.304520</td>\n",
       "    </tr>\n",
       "    <tr>\n",
       "      <th>10</th>\n",
       "      <td>Walter Tavares</td>\n",
       "      <td>C</td>\n",
       "      <td>Atlanta Hawks</td>\n",
       "      <td>1.000000</td>\n",
       "    </tr>\n",
       "    <tr>\n",
       "      <th>11</th>\n",
       "      <td>Jason Richardson</td>\n",
       "      <td>SG</td>\n",
       "      <td>Atlanta Hawks</td>\n",
       "      <td>0.947276</td>\n",
       "    </tr>\n",
       "    <tr>\n",
       "      <th>12</th>\n",
       "      <td>Lamar Patterson</td>\n",
       "      <td>SG</td>\n",
       "      <td>Atlanta Hawks</td>\n",
       "      <td>0.525093</td>\n",
       "    </tr>\n",
       "    <tr>\n",
       "      <th>13</th>\n",
       "      <td>Terran Petteway</td>\n",
       "      <td>SG</td>\n",
       "      <td>Atlanta Hawks</td>\n",
       "      <td>0.525093</td>\n",
       "    </tr>\n",
       "    <tr>\n",
       "      <th>14</th>\n",
       "      <td>Avery Bradley</td>\n",
       "      <td>PG</td>\n",
       "      <td>Boston Celtics</td>\n",
       "      <td>7.730337</td>\n",
       "    </tr>\n",
       "    <tr>\n",
       "      <th>15</th>\n",
       "      <td>Isaiah Thomas</td>\n",
       "      <td>PG</td>\n",
       "      <td>Boston Celtics</td>\n",
       "      <td>6.912869</td>\n",
       "    </tr>\n",
       "    <tr>\n",
       "      <th>16</th>\n",
       "      <td>Jae Crowder</td>\n",
       "      <td>SF</td>\n",
       "      <td>Boston Celtics</td>\n",
       "      <td>6.796117</td>\n",
       "    </tr>\n",
       "    <tr>\n",
       "      <th>17</th>\n",
       "      <td>Jonas Jerebko</td>\n",
       "      <td>PF</td>\n",
       "      <td>Boston Celtics</td>\n",
       "      <td>5.000000</td>\n",
       "    </tr>\n",
       "    <tr>\n",
       "      <th>18</th>\n",
       "      <td>Marcus Smart</td>\n",
       "      <td>PG</td>\n",
       "      <td>Boston Celtics</td>\n",
       "      <td>3.431040</td>\n",
       "    </tr>\n",
       "    <tr>\n",
       "      <th>19</th>\n",
       "      <td>Evan Turner</td>\n",
       "      <td>SG</td>\n",
       "      <td>Boston Celtics</td>\n",
       "      <td>3.425510</td>\n",
       "    </tr>\n",
       "    <tr>\n",
       "      <th>20</th>\n",
       "      <td>Tyler Zeller</td>\n",
       "      <td>C</td>\n",
       "      <td>Boston Celtics</td>\n",
       "      <td>2.616975</td>\n",
       "    </tr>\n",
       "    <tr>\n",
       "      <th>21</th>\n",
       "      <td>Jared Sullinger</td>\n",
       "      <td>C</td>\n",
       "      <td>Boston Celtics</td>\n",
       "      <td>2.569260</td>\n",
       "    </tr>\n",
       "    <tr>\n",
       "      <th>22</th>\n",
       "      <td>Kelly Olynyk</td>\n",
       "      <td>C</td>\n",
       "      <td>Boston Celtics</td>\n",
       "      <td>2.165160</td>\n",
       "    </tr>\n",
       "    <tr>\n",
       "      <th>23</th>\n",
       "      <td>Perry Jones</td>\n",
       "      <td>SF</td>\n",
       "      <td>Boston Celtics</td>\n",
       "      <td>2.038206</td>\n",
       "    </tr>\n",
       "    <tr>\n",
       "      <th>24</th>\n",
       "      <td>Terry Rozier</td>\n",
       "      <td>PG</td>\n",
       "      <td>Boston Celtics</td>\n",
       "      <td>1.824360</td>\n",
       "    </tr>\n",
       "    <tr>\n",
       "      <th>25</th>\n",
       "      <td>James Young</td>\n",
       "      <td>SG</td>\n",
       "      <td>Boston Celtics</td>\n",
       "      <td>1.749840</td>\n",
       "    </tr>\n",
       "    <tr>\n",
       "      <th>26</th>\n",
       "      <td>Zoran Dragic</td>\n",
       "      <td>SG</td>\n",
       "      <td>Boston Celtics</td>\n",
       "      <td>1.706225</td>\n",
       "    </tr>\n",
       "    <tr>\n",
       "      <th>27</th>\n",
       "      <td>Jordan Mickey</td>\n",
       "      <td>PF</td>\n",
       "      <td>Boston Celtics</td>\n",
       "      <td>1.170960</td>\n",
       "    </tr>\n",
       "    <tr>\n",
       "      <th>28</th>\n",
       "      <td>R.J. Hunter</td>\n",
       "      <td>SG</td>\n",
       "      <td>Boston Celtics</td>\n",
       "      <td>1.148640</td>\n",
       "    </tr>\n",
       "    <tr>\n",
       "      <th>29</th>\n",
       "      <td>Joe Johnson</td>\n",
       "      <td>SF</td>\n",
       "      <td>Brooklyn Nets</td>\n",
       "      <td>24.894863</td>\n",
       "    </tr>\n",
       "    <tr>\n",
       "      <th>...</th>\n",
       "      <td>...</td>\n",
       "      <td>...</td>\n",
       "      <td>...</td>\n",
       "      <td>...</td>\n",
       "    </tr>\n",
       "    <tr>\n",
       "      <th>387</th>\n",
       "      <td>Tibor Pleiss</td>\n",
       "      <td>C</td>\n",
       "      <td>Utah Jazz</td>\n",
       "      <td>2.900000</td>\n",
       "    </tr>\n",
       "    <tr>\n",
       "      <th>388</th>\n",
       "      <td>Trey Burke</td>\n",
       "      <td>PG</td>\n",
       "      <td>Utah Jazz</td>\n",
       "      <td>2.658240</td>\n",
       "    </tr>\n",
       "    <tr>\n",
       "      <th>389</th>\n",
       "      <td>Shelvin Mack</td>\n",
       "      <td>PG</td>\n",
       "      <td>Utah Jazz</td>\n",
       "      <td>2.433333</td>\n",
       "    </tr>\n",
       "    <tr>\n",
       "      <th>390</th>\n",
       "      <td>Trey Lyles</td>\n",
       "      <td>PF</td>\n",
       "      <td>Utah Jazz</td>\n",
       "      <td>2.239800</td>\n",
       "    </tr>\n",
       "    <tr>\n",
       "      <th>391</th>\n",
       "      <td>Joe Ingles</td>\n",
       "      <td>SF</td>\n",
       "      <td>Utah Jazz</td>\n",
       "      <td>2.050000</td>\n",
       "    </tr>\n",
       "    <tr>\n",
       "      <th>392</th>\n",
       "      <td>Rodney Hood</td>\n",
       "      <td>SG</td>\n",
       "      <td>Utah Jazz</td>\n",
       "      <td>1.348440</td>\n",
       "    </tr>\n",
       "    <tr>\n",
       "      <th>393</th>\n",
       "      <td>Rudy Gobert</td>\n",
       "      <td>C</td>\n",
       "      <td>Utah Jazz</td>\n",
       "      <td>1.175880</td>\n",
       "    </tr>\n",
       "    <tr>\n",
       "      <th>394</th>\n",
       "      <td>Chris Johnson</td>\n",
       "      <td>SF</td>\n",
       "      <td>Utah Jazz</td>\n",
       "      <td>0.981348</td>\n",
       "    </tr>\n",
       "    <tr>\n",
       "      <th>395</th>\n",
       "      <td>Grant Jerrett</td>\n",
       "      <td>PF</td>\n",
       "      <td>Utah Jazz</td>\n",
       "      <td>0.947276</td>\n",
       "    </tr>\n",
       "    <tr>\n",
       "      <th>396</th>\n",
       "      <td>Jeff Withey</td>\n",
       "      <td>C</td>\n",
       "      <td>Utah Jazz</td>\n",
       "      <td>0.947276</td>\n",
       "    </tr>\n",
       "    <tr>\n",
       "      <th>397</th>\n",
       "      <td>Raul Neto</td>\n",
       "      <td>PG</td>\n",
       "      <td>Utah Jazz</td>\n",
       "      <td>0.900000</td>\n",
       "    </tr>\n",
       "    <tr>\n",
       "      <th>398</th>\n",
       "      <td>Treveon Graham</td>\n",
       "      <td>SG</td>\n",
       "      <td>Utah Jazz</td>\n",
       "      <td>0.525093</td>\n",
       "    </tr>\n",
       "    <tr>\n",
       "      <th>399</th>\n",
       "      <td>Erick Green</td>\n",
       "      <td>PG</td>\n",
       "      <td>Utah Jazz</td>\n",
       "      <td>0.099418</td>\n",
       "    </tr>\n",
       "    <tr>\n",
       "      <th>400</th>\n",
       "      <td>John Wall</td>\n",
       "      <td>PG</td>\n",
       "      <td>Washington Wizards</td>\n",
       "      <td>15.851950</td>\n",
       "    </tr>\n",
       "    <tr>\n",
       "      <th>401</th>\n",
       "      <td>Nene Hilario</td>\n",
       "      <td>C</td>\n",
       "      <td>Washington Wizards</td>\n",
       "      <td>13.000000</td>\n",
       "    </tr>\n",
       "    <tr>\n",
       "      <th>402</th>\n",
       "      <td>Marcin Gortat</td>\n",
       "      <td>C</td>\n",
       "      <td>Washington Wizards</td>\n",
       "      <td>11.217391</td>\n",
       "    </tr>\n",
       "    <tr>\n",
       "      <th>403</th>\n",
       "      <td>Markieff Morris</td>\n",
       "      <td>PF</td>\n",
       "      <td>Washington Wizards</td>\n",
       "      <td>8.000000</td>\n",
       "    </tr>\n",
       "    <tr>\n",
       "      <th>404</th>\n",
       "      <td>Bradley Beal</td>\n",
       "      <td>SG</td>\n",
       "      <td>Washington Wizards</td>\n",
       "      <td>5.694674</td>\n",
       "    </tr>\n",
       "    <tr>\n",
       "      <th>405</th>\n",
       "      <td>Martell Webster</td>\n",
       "      <td>SF</td>\n",
       "      <td>Washington Wizards</td>\n",
       "      <td>5.613500</td>\n",
       "    </tr>\n",
       "    <tr>\n",
       "      <th>406</th>\n",
       "      <td>Otto Porter Jr.</td>\n",
       "      <td>SF</td>\n",
       "      <td>Washington Wizards</td>\n",
       "      <td>4.662960</td>\n",
       "    </tr>\n",
       "    <tr>\n",
       "      <th>407</th>\n",
       "      <td>Kris Humphries</td>\n",
       "      <td>PF</td>\n",
       "      <td>Washington Wizards</td>\n",
       "      <td>4.440000</td>\n",
       "    </tr>\n",
       "    <tr>\n",
       "      <th>408</th>\n",
       "      <td>Jared Dudley</td>\n",
       "      <td>SF</td>\n",
       "      <td>Washington Wizards</td>\n",
       "      <td>4.375000</td>\n",
       "    </tr>\n",
       "    <tr>\n",
       "      <th>409</th>\n",
       "      <td>Alan Anderson</td>\n",
       "      <td>SG</td>\n",
       "      <td>Washington Wizards</td>\n",
       "      <td>4.000000</td>\n",
       "    </tr>\n",
       "    <tr>\n",
       "      <th>410</th>\n",
       "      <td>Drew Gooden</td>\n",
       "      <td>PF</td>\n",
       "      <td>Washington Wizards</td>\n",
       "      <td>3.300000</td>\n",
       "    </tr>\n",
       "    <tr>\n",
       "      <th>411</th>\n",
       "      <td>Ramon Sessions</td>\n",
       "      <td>PG</td>\n",
       "      <td>Washington Wizards</td>\n",
       "      <td>2.170465</td>\n",
       "    </tr>\n",
       "    <tr>\n",
       "      <th>412</th>\n",
       "      <td>Gary Neal</td>\n",
       "      <td>PG</td>\n",
       "      <td>Washington Wizards</td>\n",
       "      <td>2.139000</td>\n",
       "    </tr>\n",
       "    <tr>\n",
       "      <th>413</th>\n",
       "      <td>DeJuan Blair</td>\n",
       "      <td>C</td>\n",
       "      <td>Washington Wizards</td>\n",
       "      <td>2.000000</td>\n",
       "    </tr>\n",
       "    <tr>\n",
       "      <th>414</th>\n",
       "      <td>Kelly Oubre Jr.</td>\n",
       "      <td>SF</td>\n",
       "      <td>Washington Wizards</td>\n",
       "      <td>1.920240</td>\n",
       "    </tr>\n",
       "    <tr>\n",
       "      <th>415</th>\n",
       "      <td>Garrett Temple</td>\n",
       "      <td>SG</td>\n",
       "      <td>Washington Wizards</td>\n",
       "      <td>1.100602</td>\n",
       "    </tr>\n",
       "    <tr>\n",
       "      <th>416</th>\n",
       "      <td>Jarell Eddie</td>\n",
       "      <td>SG</td>\n",
       "      <td>Washington Wizards</td>\n",
       "      <td>0.561716</td>\n",
       "    </tr>\n",
       "  </tbody>\n",
       "</table>\n",
       "<p>417 rows × 4 columns</p>\n",
       "</div>"
      ],
      "text/plain": [
       "               PLAYER POSITION                TEAM     SALARY\n",
       "0        Paul Millsap       PF       Atlanta Hawks  18.671659\n",
       "1          Al Horford        C       Atlanta Hawks  12.000000\n",
       "2      Tiago Splitter        C       Atlanta Hawks   9.756250\n",
       "3         Jeff Teague       PG       Atlanta Hawks   8.000000\n",
       "4         Kyle Korver       SG       Atlanta Hawks   5.746479\n",
       "5     Thabo Sefolosha       SF       Atlanta Hawks   4.000000\n",
       "6          Mike Scott       PF       Atlanta Hawks   3.333333\n",
       "7       Kent Bazemore       SF       Atlanta Hawks   2.000000\n",
       "8     Dennis Schroder       PG       Atlanta Hawks   1.763400\n",
       "9    Tim Hardaway Jr.       SG       Atlanta Hawks   1.304520\n",
       "10     Walter Tavares        C       Atlanta Hawks   1.000000\n",
       "11   Jason Richardson       SG       Atlanta Hawks   0.947276\n",
       "12    Lamar Patterson       SG       Atlanta Hawks   0.525093\n",
       "13    Terran Petteway       SG       Atlanta Hawks   0.525093\n",
       "14      Avery Bradley       PG      Boston Celtics   7.730337\n",
       "15      Isaiah Thomas       PG      Boston Celtics   6.912869\n",
       "16        Jae Crowder       SF      Boston Celtics   6.796117\n",
       "17      Jonas Jerebko       PF      Boston Celtics   5.000000\n",
       "18       Marcus Smart       PG      Boston Celtics   3.431040\n",
       "19        Evan Turner       SG      Boston Celtics   3.425510\n",
       "20       Tyler Zeller        C      Boston Celtics   2.616975\n",
       "21    Jared Sullinger        C      Boston Celtics   2.569260\n",
       "22       Kelly Olynyk        C      Boston Celtics   2.165160\n",
       "23        Perry Jones       SF      Boston Celtics   2.038206\n",
       "24       Terry Rozier       PG      Boston Celtics   1.824360\n",
       "25        James Young       SG      Boston Celtics   1.749840\n",
       "26       Zoran Dragic       SG      Boston Celtics   1.706225\n",
       "27      Jordan Mickey       PF      Boston Celtics   1.170960\n",
       "28        R.J. Hunter       SG      Boston Celtics   1.148640\n",
       "29        Joe Johnson       SF       Brooklyn Nets  24.894863\n",
       "..                ...      ...                 ...        ...\n",
       "387      Tibor Pleiss        C           Utah Jazz   2.900000\n",
       "388        Trey Burke       PG           Utah Jazz   2.658240\n",
       "389      Shelvin Mack       PG           Utah Jazz   2.433333\n",
       "390        Trey Lyles       PF           Utah Jazz   2.239800\n",
       "391        Joe Ingles       SF           Utah Jazz   2.050000\n",
       "392       Rodney Hood       SG           Utah Jazz   1.348440\n",
       "393       Rudy Gobert        C           Utah Jazz   1.175880\n",
       "394     Chris Johnson       SF           Utah Jazz   0.981348\n",
       "395     Grant Jerrett       PF           Utah Jazz   0.947276\n",
       "396       Jeff Withey        C           Utah Jazz   0.947276\n",
       "397         Raul Neto       PG           Utah Jazz   0.900000\n",
       "398    Treveon Graham       SG           Utah Jazz   0.525093\n",
       "399       Erick Green       PG           Utah Jazz   0.099418\n",
       "400         John Wall       PG  Washington Wizards  15.851950\n",
       "401      Nene Hilario        C  Washington Wizards  13.000000\n",
       "402     Marcin Gortat        C  Washington Wizards  11.217391\n",
       "403   Markieff Morris       PF  Washington Wizards   8.000000\n",
       "404      Bradley Beal       SG  Washington Wizards   5.694674\n",
       "405   Martell Webster       SF  Washington Wizards   5.613500\n",
       "406   Otto Porter Jr.       SF  Washington Wizards   4.662960\n",
       "407    Kris Humphries       PF  Washington Wizards   4.440000\n",
       "408      Jared Dudley       SF  Washington Wizards   4.375000\n",
       "409     Alan Anderson       SG  Washington Wizards   4.000000\n",
       "410       Drew Gooden       PF  Washington Wizards   3.300000\n",
       "411    Ramon Sessions       PG  Washington Wizards   2.170465\n",
       "412         Gary Neal       PG  Washington Wizards   2.139000\n",
       "413      DeJuan Blair        C  Washington Wizards   2.000000\n",
       "414   Kelly Oubre Jr.       SF  Washington Wizards   1.920240\n",
       "415    Garrett Temple       SG  Washington Wizards   1.100602\n",
       "416      Jarell Eddie       SG  Washington Wizards   0.561716\n",
       "\n",
       "[417 rows x 4 columns]"
      ]
     },
     "execution_count": 25,
     "metadata": {},
     "output_type": "execute_result"
    }
   ],
   "source": [
    "df = pd.read_csv('../../../data/nba_salaries.csv')\n",
    "df"
   ]
  },
  {
   "cell_type": "code",
   "execution_count": 26,
   "metadata": {
    "collapsed": false
   },
   "outputs": [
    {
     "data": {
      "text/plain": [
       "0      False\n",
       "1      False\n",
       "2      False\n",
       "3      False\n",
       "4      False\n",
       "5      False\n",
       "6      False\n",
       "7      False\n",
       "8      False\n",
       "9      False\n",
       "10     False\n",
       "11     False\n",
       "12     False\n",
       "13     False\n",
       "14     False\n",
       "15     False\n",
       "16     False\n",
       "17     False\n",
       "18     False\n",
       "19     False\n",
       "20     False\n",
       "21     False\n",
       "22     False\n",
       "23     False\n",
       "24     False\n",
       "25     False\n",
       "26     False\n",
       "27     False\n",
       "28     False\n",
       "29     False\n",
       "       ...  \n",
       "387    False\n",
       "388    False\n",
       "389    False\n",
       "390    False\n",
       "391    False\n",
       "392    False\n",
       "393    False\n",
       "394    False\n",
       "395    False\n",
       "396    False\n",
       "397    False\n",
       "398    False\n",
       "399    False\n",
       "400    False\n",
       "401    False\n",
       "402    False\n",
       "403    False\n",
       "404    False\n",
       "405    False\n",
       "406    False\n",
       "407    False\n",
       "408    False\n",
       "409    False\n",
       "410    False\n",
       "411    False\n",
       "412    False\n",
       "413    False\n",
       "414    False\n",
       "415    False\n",
       "416    False\n",
       "Name: TEAM, Length: 417, dtype: bool"
      ]
     },
     "execution_count": 26,
     "metadata": {},
     "output_type": "execute_result"
    }
   ],
   "source": [
    "filtro = df['TEAM'] == 'Houston Rockets'\n",
    "filtro"
   ]
  },
  {
   "cell_type": "code",
   "execution_count": 27,
   "metadata": {
    "collapsed": false
   },
   "outputs": [
    {
     "data": {
      "text/plain": [
       "7.107153083333334"
      ]
     },
     "execution_count": 27,
     "metadata": {},
     "output_type": "execute_result"
    }
   ],
   "source": [
    "df[filtro]['SALARY'].mean()"
   ]
  },
  {
   "cell_type": "markdown",
   "metadata": {},
   "source": [
    "O pandas funciona um pouco como um banco de dados. Temos funções como groupby, sort etc."
   ]
  },
  {
   "cell_type": "code",
   "execution_count": 28,
   "metadata": {
    "collapsed": false
   },
   "outputs": [
    {
     "data": {
      "text/html": [
       "<div>\n",
       "<style scoped>\n",
       "    .dataframe tbody tr th:only-of-type {\n",
       "        vertical-align: middle;\n",
       "    }\n",
       "\n",
       "    .dataframe tbody tr th {\n",
       "        vertical-align: top;\n",
       "    }\n",
       "\n",
       "    .dataframe thead th {\n",
       "        text-align: right;\n",
       "    }\n",
       "</style>\n",
       "<table border=\"1\" class=\"dataframe\">\n",
       "  <thead>\n",
       "    <tr style=\"text-align: right;\">\n",
       "      <th></th>\n",
       "      <th>SALARY</th>\n",
       "    </tr>\n",
       "    <tr>\n",
       "      <th>POSITION</th>\n",
       "      <th></th>\n",
       "    </tr>\n",
       "  </thead>\n",
       "  <tbody>\n",
       "    <tr>\n",
       "      <th>C</th>\n",
       "      <td>6.082913</td>\n",
       "    </tr>\n",
       "    <tr>\n",
       "      <th>PF</th>\n",
       "      <td>4.951344</td>\n",
       "    </tr>\n",
       "    <tr>\n",
       "      <th>PG</th>\n",
       "      <td>5.165487</td>\n",
       "    </tr>\n",
       "    <tr>\n",
       "      <th>SF</th>\n",
       "      <td>5.532675</td>\n",
       "    </tr>\n",
       "    <tr>\n",
       "      <th>SG</th>\n",
       "      <td>3.988195</td>\n",
       "    </tr>\n",
       "  </tbody>\n",
       "</table>\n",
       "</div>"
      ],
      "text/plain": [
       "            SALARY\n",
       "POSITION          \n",
       "C         6.082913\n",
       "PF        4.951344\n",
       "PG        5.165487\n",
       "SF        5.532675\n",
       "SG        3.988195"
      ]
     },
     "execution_count": 28,
     "metadata": {},
     "output_type": "execute_result"
    }
   ],
   "source": [
    "df[['POSITION', 'SALARY']].groupby('POSITION').mean()"
   ]
  },
  {
   "cell_type": "code",
   "execution_count": 29,
   "metadata": {
    "collapsed": false
   },
   "outputs": [
    {
     "data": {
      "text/html": [
       "<div>\n",
       "<style scoped>\n",
       "    .dataframe tbody tr th:only-of-type {\n",
       "        vertical-align: middle;\n",
       "    }\n",
       "\n",
       "    .dataframe tbody tr th {\n",
       "        vertical-align: top;\n",
       "    }\n",
       "\n",
       "    .dataframe thead th {\n",
       "        text-align: right;\n",
       "    }\n",
       "</style>\n",
       "<table border=\"1\" class=\"dataframe\">\n",
       "  <thead>\n",
       "    <tr style=\"text-align: right;\">\n",
       "      <th></th>\n",
       "      <th>SALARY</th>\n",
       "    </tr>\n",
       "    <tr>\n",
       "      <th>TEAM</th>\n",
       "      <th></th>\n",
       "    </tr>\n",
       "  </thead>\n",
       "  <tbody>\n",
       "    <tr>\n",
       "      <th>Phoenix Suns</th>\n",
       "      <td>2.971813</td>\n",
       "    </tr>\n",
       "    <tr>\n",
       "      <th>Utah Jazz</th>\n",
       "      <td>3.095993</td>\n",
       "    </tr>\n",
       "    <tr>\n",
       "      <th>Portland Trail Blazers</th>\n",
       "      <td>3.246206</td>\n",
       "    </tr>\n",
       "    <tr>\n",
       "      <th>Philadelphia 76ers</th>\n",
       "      <td>3.267796</td>\n",
       "    </tr>\n",
       "    <tr>\n",
       "      <th>Boston Celtics</th>\n",
       "      <td>3.352367</td>\n",
       "    </tr>\n",
       "    <tr>\n",
       "      <th>Milwaukee Bucks</th>\n",
       "      <td>4.019873</td>\n",
       "    </tr>\n",
       "    <tr>\n",
       "      <th>Detroit Pistons</th>\n",
       "      <td>4.221176</td>\n",
       "    </tr>\n",
       "    <tr>\n",
       "      <th>Toronto Raptors</th>\n",
       "      <td>4.392507</td>\n",
       "    </tr>\n",
       "    <tr>\n",
       "      <th>Brooklyn Nets</th>\n",
       "      <td>4.408229</td>\n",
       "    </tr>\n",
       "    <tr>\n",
       "      <th>Denver Nuggets</th>\n",
       "      <td>4.459243</td>\n",
       "    </tr>\n",
       "    <tr>\n",
       "      <th>Memphis Grizzlies</th>\n",
       "      <td>4.466497</td>\n",
       "    </tr>\n",
       "    <tr>\n",
       "      <th>Charlotte Hornets</th>\n",
       "      <td>4.672355</td>\n",
       "    </tr>\n",
       "    <tr>\n",
       "      <th>Indiana Pacers</th>\n",
       "      <td>4.822694</td>\n",
       "    </tr>\n",
       "    <tr>\n",
       "      <th>Atlanta Hawks</th>\n",
       "      <td>4.969507</td>\n",
       "    </tr>\n",
       "    <tr>\n",
       "      <th>New Orleans Pelicans</th>\n",
       "      <td>5.032163</td>\n",
       "    </tr>\n",
       "    <tr>\n",
       "      <th>Minnesota Timberwolves</th>\n",
       "      <td>5.065186</td>\n",
       "    </tr>\n",
       "    <tr>\n",
       "      <th>Los Angeles Clippers</th>\n",
       "      <td>5.082624</td>\n",
       "    </tr>\n",
       "    <tr>\n",
       "      <th>Washington Wizards</th>\n",
       "      <td>5.296912</td>\n",
       "    </tr>\n",
       "    <tr>\n",
       "      <th>New York Knicks</th>\n",
       "      <td>5.338846</td>\n",
       "    </tr>\n",
       "    <tr>\n",
       "      <th>Orlando Magic</th>\n",
       "      <td>5.544567</td>\n",
       "    </tr>\n",
       "    <tr>\n",
       "      <th>Dallas Mavericks</th>\n",
       "      <td>5.978414</td>\n",
       "    </tr>\n",
       "    <tr>\n",
       "      <th>Oklahoma City Thunder</th>\n",
       "      <td>6.052010</td>\n",
       "    </tr>\n",
       "    <tr>\n",
       "      <th>Sacramento Kings</th>\n",
       "      <td>6.216808</td>\n",
       "    </tr>\n",
       "    <tr>\n",
       "      <th>Los Angeles Lakers</th>\n",
       "      <td>6.237086</td>\n",
       "    </tr>\n",
       "    <tr>\n",
       "      <th>San Antonio Spurs</th>\n",
       "      <td>6.511698</td>\n",
       "    </tr>\n",
       "    <tr>\n",
       "      <th>Chicago Bulls</th>\n",
       "      <td>6.568407</td>\n",
       "    </tr>\n",
       "    <tr>\n",
       "      <th>Golden State Warriors</th>\n",
       "      <td>6.720367</td>\n",
       "    </tr>\n",
       "    <tr>\n",
       "      <th>Miami Heat</th>\n",
       "      <td>6.794056</td>\n",
       "    </tr>\n",
       "    <tr>\n",
       "      <th>Houston Rockets</th>\n",
       "      <td>7.107153</td>\n",
       "    </tr>\n",
       "    <tr>\n",
       "      <th>Cleveland Cavaliers</th>\n",
       "      <td>10.231241</td>\n",
       "    </tr>\n",
       "  </tbody>\n",
       "</table>\n",
       "</div>"
      ],
      "text/plain": [
       "                           SALARY\n",
       "TEAM                             \n",
       "Phoenix Suns             2.971813\n",
       "Utah Jazz                3.095993\n",
       "Portland Trail Blazers   3.246206\n",
       "Philadelphia 76ers       3.267796\n",
       "Boston Celtics           3.352367\n",
       "Milwaukee Bucks          4.019873\n",
       "Detroit Pistons          4.221176\n",
       "Toronto Raptors          4.392507\n",
       "Brooklyn Nets            4.408229\n",
       "Denver Nuggets           4.459243\n",
       "Memphis Grizzlies        4.466497\n",
       "Charlotte Hornets        4.672355\n",
       "Indiana Pacers           4.822694\n",
       "Atlanta Hawks            4.969507\n",
       "New Orleans Pelicans     5.032163\n",
       "Minnesota Timberwolves   5.065186\n",
       "Los Angeles Clippers     5.082624\n",
       "Washington Wizards       5.296912\n",
       "New York Knicks          5.338846\n",
       "Orlando Magic            5.544567\n",
       "Dallas Mavericks         5.978414\n",
       "Oklahoma City Thunder    6.052010\n",
       "Sacramento Kings         6.216808\n",
       "Los Angeles Lakers       6.237086\n",
       "San Antonio Spurs        6.511698\n",
       "Chicago Bulls            6.568407\n",
       "Golden State Warriors    6.720367\n",
       "Miami Heat               6.794056\n",
       "Houston Rockets          7.107153\n",
       "Cleveland Cavaliers     10.231241"
      ]
     },
     "execution_count": 29,
     "metadata": {},
     "output_type": "execute_result"
    }
   ],
   "source": [
    "df[['TEAM', 'SALARY']].groupby('TEAM').mean().sort_values('SALARY')"
   ]
  },
  {
   "cell_type": "code",
   "execution_count": null,
   "metadata": {
    "collapsed": true
   },
   "outputs": [],
   "source": []
  }
 ],
 "metadata": {
  "kernelspec": {
   "display_name": "Python [conda env:anaconda3]",
   "language": "python",
   "name": "conda-env-anaconda3-py"
  },
  "language_info": {
   "codemirror_mode": {
    "name": "ipython",
    "version": 3
   },
   "file_extension": ".py",
   "mimetype": "text/x-python",
   "name": "python",
   "nbconvert_exporter": "python",
   "pygments_lexer": "ipython3",
   "version": "3.5.2"
  }
 },
 "nbformat": 4,
 "nbformat_minor": 2
}
