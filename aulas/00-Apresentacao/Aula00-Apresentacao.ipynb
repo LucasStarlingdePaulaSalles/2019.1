{
 "cells": [
  {
   "cell_type": "markdown",
   "metadata": {},
   "source": [
    "# Aula 00 - Apresentação\n",
    "\n",
    "## Objetivo\n",
    "\n",
    "* Mostrar algums conceitos básicos de Python\n",
    "* Entender como configurar um ambiente\n",
    "\n",
    "## Resultado Esperado\n",
    "\n",
    "* Gráfico simples de frequencia de palavras em dom-casmurro."
   ]
  },
  {
   "cell_type": "markdown",
   "metadata": {},
   "source": [
    "Código Python não é tão diferente de outras linguagens. Geralmente vamos precisar de algumas bibliotecas. Para isto, fazemos um import."
   ]
  },
  {
   "cell_type": "code",
   "execution_count": 9,
   "metadata": {
    "collapsed": false
   },
   "outputs": [],
   "source": [
    "import matplotlib.pyplot as plt\n",
    "import numpy as np\n",
    "import re"
   ]
  },
  {
   "cell_type": "markdown",
   "metadata": {},
   "source": [
    "A linha abaixo serve para que figuras sejam renderizadas no browser. Nem sempre é necessário."
   ]
  },
  {
   "cell_type": "code",
   "execution_count": 4,
   "metadata": {
    "collapsed": true
   },
   "outputs": [],
   "source": [
    "plt.ion()"
   ]
  },
  {
   "cell_type": "markdown",
   "metadata": {},
   "source": [
    "Aritmética básica"
   ]
  },
  {
   "cell_type": "code",
   "execution_count": 5,
   "metadata": {
    "collapsed": false
   },
   "outputs": [
    {
     "data": {
      "text/plain": [
       "2"
      ]
     },
     "execution_count": 5,
     "metadata": {},
     "output_type": "execute_result"
    }
   ],
   "source": [
    "1 + 1"
   ]
  },
  {
   "cell_type": "code",
   "execution_count": 6,
   "metadata": {
    "collapsed": true
   },
   "outputs": [],
   "source": [
    "x = 2"
   ]
  },
  {
   "cell_type": "code",
   "execution_count": 7,
   "metadata": {
    "collapsed": true
   },
   "outputs": [],
   "source": [
    "y = x + 8"
   ]
  },
  {
   "cell_type": "code",
   "execution_count": 8,
   "metadata": {
    "collapsed": false
   },
   "outputs": [
    {
     "data": {
      "text/plain": [
       "10"
      ]
     },
     "execution_count": 8,
     "metadata": {},
     "output_type": "execute_result"
    }
   ],
   "source": [
    "y"
   ]
  },
  {
   "cell_type": "markdown",
   "metadata": {},
   "source": [
    "Abrimos arquivos com \"with open\". O with não é necessário, mas ao utilizar o mesmo criamos um contexto onde o arquivo é aberto dentro do mesmo. Após sair do bloco with, o arquivo já é fechado. A função print serve para imprimir dados. Note como no notebook tudo ocorre no browser."
   ]
  },
  {
   "cell_type": "code",
   "execution_count": 11,
   "metadata": {
    "collapsed": false
   },
   "outputs": [
    {
     "name": "stdout",
     "output_type": "stream",
     "text": [
      "The Project Gutenberg EBook of Dom Casmurro, by Machado de Assis\n",
      "\n"
     ]
    }
   ],
   "source": [
    "with open('dom-casmurro.txt') as dom_casmurro:\n",
    "    print(dom_casmurro.readline())"
   ]
  },
  {
   "cell_type": "markdown",
   "metadata": {},
   "source": [
    "Uma das vantagens de Python em relação a linguagem C é que já temos uma série de estruturas de dados disponíveis. Em particular, o código abaixo faz uso de uma lista chamada livro_inteiro.\n",
    "\n",
    "Para entender como fazer uso da lista, você pode fazer help(list)"
   ]
  },
  {
   "cell_type": "code",
   "execution_count": 13,
   "metadata": {
    "collapsed": true
   },
   "outputs": [],
   "source": [
    "l = list()"
   ]
  },
  {
   "cell_type": "code",
   "execution_count": 8,
   "metadata": {
    "collapsed": false
   },
   "outputs": [
    {
     "name": "stdout",
     "output_type": "stream",
     "text": [
      "Help on class list in module builtins:\n",
      "\n",
      "class list(object)\n",
      " |  list() -> new empty list\n",
      " |  list(iterable) -> new list initialized from iterable's items\n",
      " |  \n",
      " |  Methods defined here:\n",
      " |  \n",
      " |  __add__(self, value, /)\n",
      " |      Return self+value.\n",
      " |  \n",
      " |  __contains__(self, key, /)\n",
      " |      Return key in self.\n",
      " |  \n",
      " |  __delitem__(self, key, /)\n",
      " |      Delete self[key].\n",
      " |  \n",
      " |  __eq__(self, value, /)\n",
      " |      Return self==value.\n",
      " |  \n",
      " |  __ge__(self, value, /)\n",
      " |      Return self>=value.\n",
      " |  \n",
      " |  __getattribute__(self, name, /)\n",
      " |      Return getattr(self, name).\n",
      " |  \n",
      " |  __getitem__(...)\n",
      " |      x.__getitem__(y) <==> x[y]\n",
      " |  \n",
      " |  __gt__(self, value, /)\n",
      " |      Return self>value.\n",
      " |  \n",
      " |  __iadd__(self, value, /)\n",
      " |      Implement self+=value.\n",
      " |  \n",
      " |  __imul__(self, value, /)\n",
      " |      Implement self*=value.\n",
      " |  \n",
      " |  __init__(self, /, *args, **kwargs)\n",
      " |      Initialize self.  See help(type(self)) for accurate signature.\n",
      " |  \n",
      " |  __iter__(self, /)\n",
      " |      Implement iter(self).\n",
      " |  \n",
      " |  __le__(self, value, /)\n",
      " |      Return self<=value.\n",
      " |  \n",
      " |  __len__(self, /)\n",
      " |      Return len(self).\n",
      " |  \n",
      " |  __lt__(self, value, /)\n",
      " |      Return self<value.\n",
      " |  \n",
      " |  __mul__(self, value, /)\n",
      " |      Return self*value.\n",
      " |  \n",
      " |  __ne__(self, value, /)\n",
      " |      Return self!=value.\n",
      " |  \n",
      " |  __new__(*args, **kwargs) from builtins.type\n",
      " |      Create and return a new object.  See help(type) for accurate signature.\n",
      " |  \n",
      " |  __repr__(self, /)\n",
      " |      Return repr(self).\n",
      " |  \n",
      " |  __reversed__(...)\n",
      " |      L.__reversed__() -- return a reverse iterator over the list\n",
      " |  \n",
      " |  __rmul__(self, value, /)\n",
      " |      Return value*self.\n",
      " |  \n",
      " |  __setitem__(self, key, value, /)\n",
      " |      Set self[key] to value.\n",
      " |  \n",
      " |  __sizeof__(...)\n",
      " |      L.__sizeof__() -- size of L in memory, in bytes\n",
      " |  \n",
      " |  append(...)\n",
      " |      L.append(object) -> None -- append object to end\n",
      " |  \n",
      " |  clear(...)\n",
      " |      L.clear() -> None -- remove all items from L\n",
      " |  \n",
      " |  copy(...)\n",
      " |      L.copy() -> list -- a shallow copy of L\n",
      " |  \n",
      " |  count(...)\n",
      " |      L.count(value) -> integer -- return number of occurrences of value\n",
      " |  \n",
      " |  extend(...)\n",
      " |      L.extend(iterable) -> None -- extend list by appending elements from the iterable\n",
      " |  \n",
      " |  index(...)\n",
      " |      L.index(value, [start, [stop]]) -> integer -- return first index of value.\n",
      " |      Raises ValueError if the value is not present.\n",
      " |  \n",
      " |  insert(...)\n",
      " |      L.insert(index, object) -- insert object before index\n",
      " |  \n",
      " |  pop(...)\n",
      " |      L.pop([index]) -> item -- remove and return item at index (default last).\n",
      " |      Raises IndexError if list is empty or index is out of range.\n",
      " |  \n",
      " |  remove(...)\n",
      " |      L.remove(value) -> None -- remove first occurrence of value.\n",
      " |      Raises ValueError if the value is not present.\n",
      " |  \n",
      " |  reverse(...)\n",
      " |      L.reverse() -- reverse *IN PLACE*\n",
      " |  \n",
      " |  sort(...)\n",
      " |      L.sort(key=None, reverse=False) -> None -- stable sort *IN PLACE*\n",
      " |  \n",
      " |  ----------------------------------------------------------------------\n",
      " |  Data and other attributes defined here:\n",
      " |  \n",
      " |  __hash__ = None\n",
      "\n"
     ]
    }
   ],
   "source": [
    "help(list)"
   ]
  },
  {
   "cell_type": "markdown",
   "metadata": {},
   "source": [
    "Além do mais agora estamos fazendo uso de um laço for. Note que não temos chaves nem ; em nenhum momento. Blocos de código em Python são definidos pela identação."
   ]
  },
  {
   "cell_type": "code",
   "execution_count": 14,
   "metadata": {
    "collapsed": true
   },
   "outputs": [],
   "source": [
    "livro_inteiro = []\n",
    "with open('dom-casmurro.txt') as dom_casmurro:\n",
    "    for line in dom_casmurro:\n",
    "        livro_inteiro.append(line.strip())"
   ]
  },
  {
   "cell_type": "code",
   "execution_count": 20,
   "metadata": {
    "collapsed": false
   },
   "outputs": [
    {
     "data": {
      "text/plain": [
       "'Agora que expliquei o titulo, passo a escrever o livro. Antes disso,'"
      ]
     },
     "execution_count": 20,
     "metadata": {},
     "output_type": "execute_result"
    }
   ],
   "source": [
    "livro_inteiro[103] # acessando o segundo elemento da lista"
   ]
  },
  {
   "cell_type": "markdown",
   "metadata": {},
   "source": [
    "Python é bastante útil para fazer uso de expressões regulares. Minha primeira tentativa foi identificar os nomes através de expressões regulares. Deu errado :). Motivos:\n",
    "\n",
    "- Acentos\n",
    "- Pontuação"
   ]
  },
  {
   "cell_type": "code",
   "execution_count": 11,
   "metadata": {
    "collapsed": false
   },
   "outputs": [
    {
     "name": "stdout",
     "output_type": "stream",
     "text": [
      "The \n",
      "This \n",
      "Release \n",
      "Produced \n",
      "Literature \n",
      "Do \n",
      "Uma \n",
      "Engenho \n",
      "Tudo \n",
      "Do \n",
      "Agora \n",
      "Vivo \n",
      "Se \n",
      "Quiz \n",
      "Fiquei \n",
      "Tive \n",
      "Ia \n",
      "Minha \n",
      "Tio \n",
      "Creio \n",
      "Minha \n",
      "Um \n",
      "Nem \n",
      "Era \n",
      "Voltou \n",
      "Tinha \n",
      "Teve \n",
      "Tio \n",
      "Tio \n",
      "Tinha \n",
      "Era \n",
      "Uma \n",
      "Tambem \n",
      "Minha \n",
      "Albuquerque \n",
      "Santiago \n",
      "Tenho \n",
      "Concluo \n",
      "Aqui \n",
      "Mas \n",
      "Verdadeiramente \n",
      "Agora \n",
      "Deus \n",
      "Com \n",
      "Satanaz \n",
      "Foi \n",
      "As \n",
      "Os \n",
      "Juram \n",
      "Shakespeare \n",
      "Acceito \n",
      "Que \n",
      "Os \n",
      "Prazos \n",
      "Minha \n",
      "Quando \n",
      "Ultimamente \n",
      "Na \n",
      "Parei \n",
      "Tijolos \n",
      "Um \n",
      "Era \n",
      "Com \n",
      "Tudo \n",
      "De \n",
      "Em \n",
      "Caminhei \n",
      "Quiz \n",
      "Os \n",
      "As \n",
      "Pensei \n",
      "Nisto \n",
      "Tudo \n",
      "Conhecia \n",
      "Faltava \n",
      "Outra \n",
      "Outra \n",
      "Era \n",
      "Olhei \n",
      "Que \n",
      "Padua \n",
      "Fortunata \n",
      "Seja \n",
      "Padua \n",
      "Nos \n",
      "Com \n",
      "Ou \n",
      "Ou \n",
      "Tal \n",
      "Os \n",
      "Um \n",
      "Pae \n",
      "Fiquei \n",
      "Disse \n",
      "Em \n",
      "Dito \n",
      "Como \n",
      "Justina \n",
      "Estremeci \n",
      "Sem \n",
      "Quando \n",
      "Afinal \n",
      "Mil \n",
      "Levantei \n",
      "Mas \n",
      "Afinal \n",
      "Era \n",
      "Cogitei \n",
      "Era \n",
      "Prima \n",
      "Na \n",
      "Enruguei \n",
      "Justina \n",
      "Note \n",
      "Ciumes \n",
      "Creio \n",
      "Prazo \n",
      "Creio \n",
      "Ao \n",
      "De \n",
      "No \n",
      "Tinhamos \n",
      "Durante \n",
      "Todo \n",
      "Os \n",
      "Timidez \n",
      "As \n",
      "Pela \n",
      "Ha \n",
      "Levantou \n",
      "Ao \n",
      "Ao \n",
      "Na \n",
      "Em \n",
      "Quanto \n",
      "Vi \n",
      "Uma \n",
      "Tudo \n",
      "Assim \n",
      "Pela \n",
      "Opas \n",
      "Fiquei \n",
      "As \n",
      "Era \n",
      "Era \n",
      "Um \n",
      "Sabia \n",
      "Queria \n",
      "Olhos \n",
      "Tudo \n",
      "Fui \n",
      "Rhetorica \n",
      "Continuei \n",
      "Em \n",
      "Grande \n",
      "Quando \n",
      "Des \n",
      "Sou \n",
      "Ouvimos \n",
      "Como \n",
      "Corri \n",
      "De \n",
      "Suppuz \n",
      "Quando \n",
      "Cabral \n",
      "Padre \n",
      "Conheci \n",
      "Minha \n",
      "Se \n",
      "Ideia \n",
      "Era \n",
      "Padre \n",
      "Papae \n",
      "Penso \n",
      "Nisto \n",
      "Fortunata \n",
      "Ouvimos \n",
      "Que \n",
      "Quando \n",
      "Agora \n",
      "Padre \n",
      "Trazia \n",
      "Padre \n",
      "Prima \n",
      "Padre \n",
      "Tendo \n",
      "Falava \n",
      "Uma \n",
      "Ficando \n",
      "Minha \n",
      "Toda \n",
      "Tentei \n",
      "Enxuguei \n",
      "Como \n",
      "Deus \n",
      "Creio \n",
      "Vi \n",
      "Caminhou \n",
      "Quizera \n",
      "No \n",
      "Ha \n",
      "Mas \n",
      "De \n",
      "Tambem \n",
      "Todas \n",
      "Fez \n",
      "Era \n",
      "Ao \n",
      "Hei \n",
      "Ao \n",
      "Palavra \n",
      "Que \n",
      "Logo \n",
      "Abane \n",
      "Abane \n",
      "Quanto \n",
      "As \n",
      "As \n",
      "Outra \n",
      "Fosse \n",
      "Para \n",
      "As \n",
      "Juramento \n",
      "Tinha \n",
      "Jurou \n",
      "Comprehendeis \n",
      "Podiamos \n",
      "Eramos \n",
      "Uma \n",
      "Eis \n",
      "Haviamos \n",
      "Um \n",
      "Mezes \n",
      "Nosso \n",
      "Era \n",
      "Ha \n",
      "Entre \n",
      "Entre \n",
      "Ja \n",
      "Fui \n",
      "Suspirou \n",
      "Tive \n",
      "Que \n",
      "Tinha \n",
      "Fui \n",
      "Assim \n",
      "Panegyrico \n",
      "No \n",
      "Contrario \n",
      "Antes \n",
      "Vinte \n",
      "Um \n",
      "Dita \n",
      "Como \n",
      "Quem \n",
      "Sem \n",
      "Trabalhei \n",
      "Um \n",
      "Tudo \n",
      "Luiz \n",
      "Eis \n",
      "Era \n",
      "De \n",
      "Escobar \n",
      "Morreu \n",
      "De \n",
      "Foi \n",
      "Dias \n",
      "Eu \n",
      "Creio \n",
      "Mas \n",
      "Vou \n",
      "Vindo \n",
      "Convivas \n",
      "Ha \n",
      "Como \n",
      "Querido \n",
      "Assim \n",
      "Querido \n",
      "Como \n",
      "Excellentissima \n",
      "Neste \n",
      "Dias \n",
      "Desta \n",
      "Uma \n",
      "Uma \n",
      "Estou \n",
      "Por \n",
      "Dias \n",
      "Outra \n",
      "Cuidei \n",
      "Metades \n",
      "Fiquei \n",
      "Tudo \n",
      "Quanto \n",
      "Nunca \n",
      "Sobre \n",
      "Uma \n",
      "Relendo \n",
      "Antes \n",
      "Era \n",
      "Chegou \n",
      "Era \n",
      "Em \n",
      "Foi \n",
      "Padua \n",
      "Era \n",
      "Justina \n",
      "Prima \n",
      "Caso \n",
      "Como \n",
      "Um \n",
      "Cuidaram \n",
      "Na \n",
      "Municipaes \n",
      "Enxuguei \n",
      "Adiemos \n",
      "Poucos \n",
      "Montaigne \n",
      "Por \n",
      "Nem \n",
      "Pelo \n",
      "Um \n",
      "Ouvi \n",
      "Depois \n",
      "Rezei \n",
      "Era \n",
      "Quis \n",
      "Visita \n",
      "Em \n",
      "Assim \n",
      "Era \n",
      "Tio \n",
      "Escobar \n",
      "Os \n",
      "Nunca \n",
      "Escobar \n",
      "Uma \n",
      "Nem \n",
      "Desta \n",
      "Ella \n",
      "Eu \n",
      "Assim \n",
      "Nem \n",
      "Na \n",
      "Tal \n",
      "Ha \n",
      "Dias \n",
      "Para \n",
      "Escapei \n",
      "Eu \n",
      "Da \n",
      "Ao \n",
      "Tinha \n",
      "Ia \n",
      "Consentiu \n",
      "Prazer \n",
      "Contando \n",
      "Segredo \n",
      "De \n",
      "Dei \n",
      "Que \n",
      "Quando \n",
      "Vamos \n",
      "Com \n",
      "Venhamos \n",
      "Venhamos \n",
      "Um \n",
      "Um \n",
      "Succedeu \n",
      "Na \n",
      "Has \n",
      "Tal \n",
      "Uma \n",
      "Assim \n",
      "Prima \n",
      "Tambem \n",
      "Repeti \n",
      "Gurgel \n",
      "Eu \n",
      "Nem \n",
      "Murmurei \n",
      "Um \n",
      "No \n",
      "Quiz \n",
      "Tal \n",
      "Suspendamos \n",
      "Isto \n",
      "Verdade \n",
      "Eu \n",
      "Era \n",
      "Chegara \n",
      "Era \n",
      "Fica \n",
      "Cada \n",
      "Tudo \n",
      "Quando \n",
      "Um \n",
      "Voltaria \n",
      "Contava \n",
      "Abri \n",
      "Minha \n",
      "Prima \n",
      "No \n",
      "Manduca \n",
      "Fui \n",
      "Ou \n",
      "Fui \n",
      "Mas \n",
      "Morreu \n",
      "Achado \n",
      "Manduca \n",
      "Quero \n",
      "Um \n",
      "Quanto \n",
      "Escobar \n",
      "Minha \n",
      "Todos \n",
      "Cosme \n",
      "Justina \n",
      "Quando \n",
      "Estavamos \n",
      "Mostrei \n",
      "Com \n",
      "Ideias \n",
      "Mas \n",
      "Criado \n",
      "Acceitei \n",
      "Fiquei \n",
      "Fiquei \n",
      "Escobar \n",
      "Escobar \n",
      "No \n",
      "Bem \n",
      "Vi \n",
      "Um \n",
      "Expuz \n",
      "Esta \n",
      "Quando \n",
      "Os \n",
      "Escobar \n",
      "Tudo \n",
      "Tinha \n",
      "Cinco \n",
      "Venceu \n",
      "Tudo \n",
      "Cosme \n",
      "Escobar \n",
      "Minha \n",
      "Ainda \n",
      "Minha \n",
      "No \n",
      "Uma \n",
      "Ainda \n",
      "No \n",
      "Pois \n",
      "Em \n",
      "Ao \n",
      "De \n",
      "Imagina \n",
      "De \n",
      "Concordava \n",
      "Mocetona \n",
      "As \n",
      "Ao \n",
      "Eu \n",
      "Escobar \n",
      "Sancha \n",
      "Escobar \n",
      "Jantar \n",
      "Andarahy \n",
      "Escobar \n",
      "Os \n",
      "No \n",
      "Embora \n",
      "Eram \n",
      "Nem \n",
      "Dez \n",
      "Quanto \n",
      "Sabes \n",
      "Tive \n",
      "No \n",
      "Escobar \n",
      "Ciumes \n",
      "Se \n",
      "Um \n",
      "Pois \n",
      "Escusai \n",
      "Usavamos \n",
      "Escobar \n",
      "Era \n",
      "Contei \n",
      "Um \n",
      "Rasgos \n",
      "Aos \n",
      "Gostava \n",
      "Fazia \n",
      "Um \n",
      "Taes \n",
      "Um \n",
      "Os \n",
      "Contado \n",
      "Foi \n",
      "As \n",
      "Tal \n",
      "Embargos \n",
      "Por \n",
      "Eram \n",
      "Em \n",
      "Antes \n",
      "Aproveitei \n",
      "Quando \n",
      "Ao \n",
      "Duvidas \n",
      "Vamos \n",
      "Escobar \n",
      "Quando \n",
      "Palavra \n",
      "Fomos \n",
      "Pouco \n",
      "Quando \n",
      "Ezequiel \n",
      "Filho \n",
      "Apalpei \n",
      "Quiz \n",
      "Biblia \n",
      "Eu \n",
      "Amigos \n",
      "Velha \n",
      "Um \n",
      "Os \n",
      "Como \n",
      "Escobar \n",
      "Tudo \n",
      "Tudo \n",
      "Sancha \n",
      "Europa \n",
      "Sancha \n",
      "Dalli \n",
      "Tive \n",
      "Talvez \n",
      "Quando \n",
      "Sancha \n",
      "Capricho \n",
      "Os \n",
      "Na \n",
      "Uma \n",
      "Naquelle \n",
      "No \n",
      "Em \n",
      "Assim \n",
      "Como \n",
      "Poucas \n",
      "Olhos \n",
      "Muitos \n",
      "As \n",
      "Era \n",
      "Era \n",
      "As \n",
      "Uma \n",
      "Priamo \n",
      "Pouco \n",
      "Neste \n",
      "Quando \n",
      "Perto \n",
      "Divina \n",
      "Punhado \n",
      "Como \n",
      "No \n",
      "Inventariei \n",
      "Rinovalatte \n",
      "Um \n",
      "Ella \n",
      "Anterior \n",
      "Foi \n",
      "Era \n",
      "Assim \n",
      "Nem \n",
      "Escobar \n",
      "Antes \n",
      "Fui \n",
      "Uma \n",
      "Um \n",
      "Jantei \n",
      "Vaguei \n",
      "Cheguei \n",
      "Escobar \n",
      "Desdemona \n",
      "Quando \n",
      "Segundo \n",
      "Se \n",
      "Ezequiel \n",
      "Quando \n",
      "Eis \n",
      "Desta \n",
      "Grande \n",
      "Concertou \n",
      "Deus \n",
      "Palavra \n",
      "Volta \n",
      "Ficando \n",
      "Os \n",
      "No \n",
      "Aqui \n",
      "Ao \n",
      "Embarquei \n",
      "Uma \n",
      "Morreu \n",
      "Abrimos \n",
      "Uma \n",
      "Assim \n",
      "Esta \n",
      "Corri \n",
      "Tudo \n",
      "Vim \n",
      "Se \n",
      "Estendeu \n",
      "Ezequiel \n",
      "Senhor \n",
      "Ao \n",
      "Sorriu \n",
      "Como \n",
      "Ellas \n",
      "Capitulo \n",
      "End \n",
      "This \n",
      "Produced \n",
      "Literature \n",
      "Updated \n",
      "Creating \n",
      "States \n",
      "To \n",
      "Project \n",
      "Section \n",
      "Project \n",
      "United \n",
      "Project \n",
      "This \n",
      "United \n",
      "License \n",
      "Vanilla \n",
      "Gutenberg \n",
      "Gutenberg \n",
      "Section \n",
      "Literary \n",
      "Project \n",
      "Gutenberg \n",
      "Defect \n",
      "Section \n",
      "Project \n",
      "Volunteers \n",
      "Gutenberg \n",
      "Archive \n",
      "Sections \n",
      "Section \n",
      "The \n",
      "Revenue \n",
      "Archive \n",
      "The \n",
      "Lake \n",
      "For \n",
      "Chief \n",
      "Section \n",
      "Literary \n",
      "Project \n",
      "The \n",
      "While \n",
      "International \n",
      "Please \n",
      "Section \n",
      "Professor \n",
      "Project \n",
      "Most \n",
      "This \n",
      "Archive \n"
     ]
    }
   ],
   "source": [
    "for linha in livro_inteiro:\n",
    "    for nome in re.findall(r\"^[A-Z][a-z]+?\\s+\", linha):\n",
    "        print(nome)"
   ]
  },
  {
   "cell_type": "markdown",
   "metadata": {},
   "source": [
    "Então decidi forçar a barra e olhar para os principais personagens. Aqui começo a fazer uso da biblioteca numpy. A mesma tem uma função np.char.count que conta a quantidade de vezes que uma sub-string ocorre em um texto. Então, estamos contando para cada linha do texto a quantidade de menções para cada personagem.\n",
    "\n",
    "Além do mais, também estou usando o dicionário (mapa de ED) para guardar as contagens."
   ]
  },
  {
   "cell_type": "code",
   "execution_count": 25,
   "metadata": {
    "collapsed": true
   },
   "outputs": [],
   "source": [
    "mapa = {}\n",
    "mapa[1] = 2\n",
    "mapa[2] = 'Flavio'"
   ]
  },
  {
   "cell_type": "code",
   "execution_count": 26,
   "metadata": {
    "collapsed": false
   },
   "outputs": [
    {
     "data": {
      "text/plain": [
       "{1: 2, 2: 'Flavio'}"
      ]
     },
     "execution_count": 26,
     "metadata": {},
     "output_type": "execute_result"
    }
   ],
   "source": [
    "mapa"
   ]
  },
  {
   "cell_type": "code",
   "execution_count": 27,
   "metadata": {
    "collapsed": true
   },
   "outputs": [],
   "source": [
    "nomes = ['Bentinho', 'Capitú', 'Escobar']\n",
    "contagens = {}\n",
    "for nome in nomes:\n",
    "    contagens[nome] = 0\n",
    "    \n",
    "for linha in livro_inteiro:\n",
    "    for nome in nomes:\n",
    "        contagens[nome] += np.char.count(linha, nome)"
   ]
  },
  {
   "cell_type": "code",
   "execution_count": 28,
   "metadata": {
    "collapsed": false
   },
   "outputs": [
    {
     "data": {
      "text/plain": [
       "{'Bentinho': 57, 'Capitú': 346, 'Escobar': 112}"
      ]
     },
     "execution_count": 28,
     "metadata": {},
     "output_type": "execute_result"
    }
   ],
   "source": [
    "contagens"
   ]
  },
  {
   "cell_type": "code",
   "execution_count": 29,
   "metadata": {
    "collapsed": true
   },
   "outputs": [],
   "source": [
    "y_values = np.zeros(len(nomes))\n",
    "for i, nome in enumerate(nomes):\n",
    "    y_values[i] = contagens[nome]"
   ]
  },
  {
   "cell_type": "code",
   "execution_count": 30,
   "metadata": {
    "collapsed": false
   },
   "outputs": [
    {
     "data": {
      "text/plain": [
       "([<matplotlib.axis.XTick at 0x1062064e0>,\n",
       "  <matplotlib.axis.XTick at 0x10d63beb8>,\n",
       "  <matplotlib.axis.XTick at 0x118c27c50>],\n",
       " <a list of 3 Text xticklabel objects>)"
      ]
     },
     "execution_count": 30,
     "metadata": {},
     "output_type": "execute_result"
    },
    {
     "data": {
      "image/png": "[encoded data removed]",
      "text/plain": [
       "<matplotlib.figure.Figure at 0x116c0c198>"
      ]
     },
     "metadata": {},
     "output_type": "display_data"
    }
   ],
   "source": [
    "plt.bar([1, 2, 3], y_values)\n",
    "plt.xticks([1, 2, 3], nomes)"
   ]
  },
  {
   "cell_type": "code",
   "execution_count": 31,
   "metadata": {
    "collapsed": true
   },
   "outputs": [],
   "source": [
    "mencoes_por_linha = {}\n",
    "for nome in nomes:\n",
    "    mencoes_por_linha[nome] = np.zeros(len(livro_inteiro))\n",
    "    \n",
    "for i, linha in enumerate(livro_inteiro):\n",
    "    for nome in nomes:\n",
    "        mencoes_por_linha[nome][i] += np.char.count(linha, nome)"
   ]
  },
  {
   "cell_type": "code",
   "execution_count": 32,
   "metadata": {
    "collapsed": false
   },
   "outputs": [
    {
     "data": {
      "text/plain": [
       "<matplotlib.legend.Legend at 0x118d1c160>"
      ]
     },
     "execution_count": 32,
     "metadata": {},
     "output_type": "execute_result"
    },
    {
     "data": {
      "image/png": "[encoded data removed]",
      "text/plain": [
       "<matplotlib.figure.Figure at 0x118d21cf8>"
      ]
     },
     "metadata": {},
     "output_type": "display_data"
    }
   ],
   "source": [
    "plt.figure(figsize=(10, 8))\n",
    "for nome in nomes:\n",
    "    plt.plot(np.cumsum(mencoes_por_linha[nome]), label=nome)\n",
    "plt.legend()"
   ]
  },
  {
   "cell_type": "code",
   "execution_count": null,
   "metadata": {
    "collapsed": true
   },
   "outputs": [],
   "source": []
  }
 ],
 "metadata": {
  "kernelspec": {
   "display_name": "Python [default]",
   "language": "python",
   "name": "python3"
  },
  "language_info": {
   "codemirror_mode": {
    "name": "ipython",
    "version": 3
   },
   "file_extension": ".py",
   "mimetype": "text/x-python",
   "name": "python",
   "nbconvert_exporter": "python",
   "pygments_lexer": "ipython3",
   "version": "3.5.2"
  }
 },
 "nbformat": 4,
 "nbformat_minor": 2
}
