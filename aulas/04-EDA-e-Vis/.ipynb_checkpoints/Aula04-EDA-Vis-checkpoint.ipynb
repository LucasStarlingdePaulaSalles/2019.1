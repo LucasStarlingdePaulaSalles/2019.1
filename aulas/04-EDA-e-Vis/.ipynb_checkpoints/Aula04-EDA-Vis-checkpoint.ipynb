{
 "cells": [
  {
   "cell_type": "markdown",
   "metadata": {},
   "source": [
    "# Aula 04 - Exploração e Visualização\n",
    "\n",
    "## Objetivos\n",
    "\n",
    "1. Aprender Matplotlib\n",
    "2. Aprender conceitos básicos de visualizar dados\n",
    "3. Um pouco mais de filtro e seleção de dados\n",
    "\n",
    "## Resultado Esperado\n",
    "\n",
    "1. Junto com a aula passada, ferramentas simples para exploração de dados\n",
    "1. Muito pode ser feito sem modelos (lembre do John-Snow Experiment)\n",
    "1. Plots + Filtros!"
   ]
  },
  {
   "cell_type": "code",
   "execution_count": null,
   "metadata": {},
   "outputs": [],
   "source": []
  }
 ],
 "metadata": {
  "kernelspec": {
   "display_name": "Python 3",
   "language": "python",
   "name": "python3"
  },
  "language_info": {
   "codemirror_mode": {
    "name": "ipython",
    "version": 3
   },
   "file_extension": ".py",
   "mimetype": "text/x-python",
   "name": "python",
   "nbconvert_exporter": "python",
   "pygments_lexer": "ipython3",
   "version": "3.6.8"
  }
 },
 "nbformat": 4,
 "nbformat_minor": 2
}
